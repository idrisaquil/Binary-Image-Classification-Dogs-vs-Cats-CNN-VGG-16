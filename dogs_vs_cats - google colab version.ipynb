{
  "cells": [
    {
      "cell_type": "markdown",
      "id": "368d6e10",
      "metadata": {
        "id": "368d6e10"
      },
      "source": [
        "# I. Importing Libraries & Modules"
      ]
    },
    {
      "cell_type": "markdown",
      "id": "fa6d4b9a",
      "metadata": {
        "id": "fa6d4b9a"
      },
      "source": [
        "*************************************************************************************************************************************************************************************************************************************"
      ]
    },
    {
      "cell_type": "markdown",
      "id": "f7ec4413",
      "metadata": {
        "id": "f7ec4413"
      },
      "source": [
        "**Basics**"
      ]
    },
    {
      "cell_type": "code",
      "execution_count": 62,
      "id": "757e5906",
      "metadata": {
        "id": "757e5906"
      },
      "outputs": [],
      "source": [
        "import pandas as pd\n",
        "import numpy as np"
      ]
    },
    {
      "cell_type": "markdown",
      "id": "aef9280a",
      "metadata": {
        "id": "aef9280a"
      },
      "source": [
        "**OS & Directory Structuring**"
      ]
    },
    {
      "cell_type": "code",
      "execution_count": 63,
      "id": "443b10bf",
      "metadata": {
        "id": "443b10bf"
      },
      "outputs": [],
      "source": [
        "import os\n",
        "from os import makedirs\n",
        "from os import listdir\n",
        "from pathlib import Path"
      ]
    },
    {
      "cell_type": "markdown",
      "id": "dcf0ec62",
      "metadata": {
        "id": "dcf0ec62"
      },
      "source": [
        "**Visuals**"
      ]
    },
    {
      "cell_type": "code",
      "execution_count": 64,
      "id": "87d0bb70",
      "metadata": {
        "id": "87d0bb70"
      },
      "outputs": [],
      "source": [
        "from PIL import Image\n",
        "import seaborn as sns\n",
        "import matplotlib.pyplot as plt\n",
        "from matplotlib.image import imread\n",
        "from scipy.interpolate import make_interp_spline\n",
        "from IPython.display import Image, display"
      ]
    },
    {
      "cell_type": "markdown",
      "id": "7447c45e",
      "metadata": {
        "id": "7447c45e"
      },
      "source": [
        "**SciKit-Learn Metrics & Modelings**"
      ]
    },
    {
      "cell_type": "code",
      "execution_count": 65,
      "id": "9333e58d",
      "metadata": {
        "id": "9333e58d"
      },
      "outputs": [],
      "source": [
        "from sklearn.metrics import confusion_matrix\n",
        "from sklearn.metrics import classification_report\n",
        "from sklearn.model_selection import train_test_split\n",
        "from sklearn.metrics import roc_curve, auc, roc_auc_score"
      ]
    },
    {
      "cell_type": "markdown",
      "id": "7a75d619",
      "metadata": {
        "id": "7a75d619"
      },
      "source": [
        "**Tensorflow & Keras**"
      ]
    },
    {
      "cell_type": "code",
      "execution_count": 66,
      "id": "61cbae50",
      "metadata": {
        "id": "61cbae50"
      },
      "outputs": [],
      "source": [
        "import tensorflow as tensorflow\n",
        "\n",
        "from tensorflow import keras\n",
        "from tensorflow.keras import layers\n",
        "from tensorflow.keras.optimizers import AdamW\n",
        "from tensorflow.keras.models import Sequential\n",
        "from tensorflow.keras.callbacks import EarlyStopping\n",
        "from tensorflow.keras.applications.vgg16 import VGG16\n",
        "from tensorflow.keras.callbacks import ModelCheckpoint\n",
        "from tensorflow.keras.utils import image_dataset_from_directory\n",
        "from tensorflow.keras.optimizers.schedules import CosineDecayRestarts\n",
        "from tensorflow.keras.preprocessing.image import load_img, img_to_array\n",
        "from tensorflow.keras.callbacks import EarlyStopping, ReduceLROnPlateau, ModelCheckpoint"
      ]
    },
    {
      "cell_type": "markdown",
      "id": "6f10ac6d",
      "metadata": {
        "id": "6f10ac6d"
      },
      "source": [
        "**Random**"
      ]
    },
    {
      "cell_type": "code",
      "execution_count": 67,
      "id": "LecvXrsWK3wV",
      "metadata": {
        "id": "LecvXrsWK3wV"
      },
      "outputs": [],
      "source": [
        "import random\n",
        "import shutil\n",
        "from random import seed\n",
        "from shutil import copyfile\n",
        "from collections import Counter\n",
        "\n",
        "import warnings\n",
        "warnings.filterwarnings('ignore')"
      ]
    },
    {
      "cell_type": "markdown",
      "id": "5eec9851",
      "metadata": {
        "id": "5eec9851"
      },
      "source": [
        "**SEED**"
      ]
    },
    {
      "cell_type": "code",
      "execution_count": 68,
      "id": "e8fed64f",
      "metadata": {
        "id": "e8fed64f"
      },
      "outputs": [],
      "source": [
        "SEED = 4\n",
        "random.seed(SEED)\n",
        "np.random.seed(SEED)\n",
        "tensorflow.random.set_seed(SEED)\n",
        "tensorflow.keras.utils.set_random_seed(SEED)"
      ]
    },
    {
      "cell_type": "markdown",
      "id": "ZQFHkxWYFWoZ",
      "metadata": {
        "id": "ZQFHkxWYFWoZ"
      },
      "source": [
        "### Google"
      ]
    },
    {
      "cell_type": "code",
      "execution_count": 69,
      "id": "rZp_1_CkFcFT",
      "metadata": {
        "colab": {
          "base_uri": "https://localhost:8080/"
        },
        "id": "rZp_1_CkFcFT",
        "outputId": "46c9db80-bb62-454a-8e63-0f3c69a07352"
      },
      "outputs": [
        {
          "output_type": "stream",
          "name": "stdout",
          "text": [
            "Drive already mounted at /content/drive; to attempt to forcibly remount, call drive.mount(\"/content/drive\", force_remount=True).\n"
          ]
        }
      ],
      "source": [
        "import gdown\n",
        "import zipfile\n",
        "from google.colab import files\n",
        "from google.colab import drive\n",
        "drive.mount('/content/drive')"
      ]
    },
    {
      "cell_type": "markdown",
      "id": "FH9LLuA-JguJ",
      "metadata": {
        "id": "FH9LLuA-JguJ"
      },
      "source": [
        "# II. Extracting Compressed Datasets"
      ]
    },
    {
      "cell_type": "code",
      "execution_count": 70,
      "id": "SL5G0PXuJocl",
      "metadata": {
        "colab": {
          "base_uri": "https://localhost:8080/"
        },
        "id": "SL5G0PXuJocl",
        "outputId": "8b07cf2d-4cce-4b07-8caa-56a867edfef5"
      },
      "outputs": [
        {
          "output_type": "stream",
          "name": "stdout",
          "text": [
            "Dog Vs. Cats folders & files extraction complete.\n"
          ]
        }
      ],
      "source": [
        "archive_path = '/content/drive/MyDrive/Colab Notebooks/Dogs vs Cats/DVC Assets/dogs-vs-cats.zip'\n",
        "extract_dir = '/content/Dogs vs Cats/DVC Assets'\n",
        "os.makedirs(extract_dir, exist_ok=True)\n",
        "\n",
        "with zipfile.ZipFile(archive_path, 'r') as zip_ref:\n",
        "    zip_ref.extractall(path=extract_dir)\n",
        "print(\"Dog Vs. Cats folders & files extraction complete.\")"
      ]
    },
    {
      "cell_type": "code",
      "execution_count": 71,
      "id": "JNvfaytDLPLi",
      "metadata": {
        "colab": {
          "base_uri": "https://localhost:8080/"
        },
        "id": "JNvfaytDLPLi",
        "outputId": "f2b52065-cea8-4b55-b73b-06f7330af283"
      },
      "outputs": [
        {
          "output_type": "stream",
          "name": "stdout",
          "text": [
            "Training files extraction complete.\n"
          ]
        }
      ],
      "source": [
        "archive_path = '/content/Dogs vs Cats/DVC Assets/train.zip'\n",
        "extract_dir = '/content/Dogs vs Cats/DVC Assets'\n",
        "os.makedirs(extract_dir, exist_ok=True)\n",
        "\n",
        "with zipfile.ZipFile(archive_path, 'r') as zip_ref:\n",
        "    zip_ref.extractall(path=extract_dir)\n",
        "print(\"Training files extraction complete.\")"
      ]
    },
    {
      "cell_type": "code",
      "execution_count": 72,
      "id": "CZBsOqaeLlmi",
      "metadata": {
        "colab": {
          "base_uri": "https://localhost:8080/"
        },
        "id": "CZBsOqaeLlmi",
        "outputId": "60a5f3b4-1f55-46d6-a0ae-975cafc0ef08"
      },
      "outputs": [
        {
          "output_type": "stream",
          "name": "stdout",
          "text": [
            "DVC Testing files extraction complete.\n"
          ]
        }
      ],
      "source": [
        "archive_path = '/content/Dogs vs Cats/DVC Assets/test1.zip'\n",
        "extract_dir = '/content/Dogs vs Cats/DVC Assets'\n",
        "os.makedirs(extract_dir, exist_ok=True)\n",
        "\n",
        "with zipfile.ZipFile(archive_path, 'r') as zip_ref:\n",
        "    zip_ref.extractall(path=extract_dir)\n",
        "print(\"DVC Testing files extraction complete.\")"
      ]
    },
    {
      "cell_type": "markdown",
      "id": "4f8637c8",
      "metadata": {
        "id": "4f8637c8"
      },
      "source": [
        "*************************************************************************************************************************************************************************************************************************************"
      ]
    },
    {
      "cell_type": "markdown",
      "id": "914d30b0",
      "metadata": {
        "id": "914d30b0"
      },
      "source": [
        "# III. Reading & Organizing Datafiles"
      ]
    },
    {
      "cell_type": "markdown",
      "id": "0b366e40",
      "metadata": {
        "id": "0b366e40"
      },
      "source": [
        "*************************************************************************************************************************************************************************************************************************************"
      ]
    },
    {
      "cell_type": "code",
      "execution_count": 73,
      "id": "29fa6063",
      "metadata": {
        "colab": {
          "base_uri": "https://localhost:8080/",
          "height": 35
        },
        "id": "29fa6063",
        "outputId": "467f104e-8463-4c68-d60f-2c6d2eec8cba"
      },
      "outputs": [
        {
          "output_type": "execute_result",
          "data": {
            "text/plain": [
              "'/content/Dogs vs Cats/DVC Assets/train'"
            ],
            "application/vnd.google.colaboratory.intrinsic+json": {
              "type": "string"
            }
          },
          "metadata": {},
          "execution_count": 73
        }
      ],
      "source": [
        "path = r'/content/Dogs vs Cats/DVC Assets/train'\n",
        "path"
      ]
    },
    {
      "cell_type": "markdown",
      "id": "c1a88b2c",
      "metadata": {
        "id": "c1a88b2c"
      },
      "source": [
        "***Creating a list of all files in the folder path that are either JPEG or PNG images***"
      ]
    },
    {
      "cell_type": "code",
      "execution_count": 74,
      "id": "dce84ddb",
      "metadata": {
        "id": "dce84ddb"
      },
      "outputs": [],
      "source": [
        "img_list = [f for f in os.listdir(path) if f.endswith('.jpg') or f.endswith('.png')]"
      ]
    },
    {
      "cell_type": "code",
      "execution_count": 75,
      "id": "a8c90c07",
      "metadata": {
        "id": "a8c90c07"
      },
      "outputs": [],
      "source": [
        "img_list = []\n",
        "\n",
        "for file in os.listdir(path):\n",
        "    if file.endswith('.jpg') or file.endswith('.png'):\n",
        "        img_list.append(file)"
      ]
    },
    {
      "cell_type": "markdown",
      "id": "c311d9da",
      "metadata": {
        "id": "c311d9da"
      },
      "source": [
        "***Branding animal species to E\\ensuring proper ratios of the two animal species sets***"
      ]
    },
    {
      "cell_type": "code",
      "execution_count": 76,
      "id": "eb5c5de4",
      "metadata": {
        "id": "eb5c5de4"
      },
      "outputs": [],
      "source": [
        "labels = [0 if 'cat' in fname else 1 for fname in img_list]"
      ]
    },
    {
      "cell_type": "code",
      "execution_count": 77,
      "id": "10f32f2a",
      "metadata": {
        "colab": {
          "base_uri": "https://localhost:8080/"
        },
        "id": "10f32f2a",
        "outputId": "f6a8ecac-23d9-4a8d-ecc8-22a9cc09928d"
      },
      "outputs": [
        {
          "output_type": "execute_result",
          "data": {
            "text/plain": [
              "25000"
            ]
          },
          "metadata": {},
          "execution_count": 77
        }
      ],
      "source": [
        "len(img_list)"
      ]
    },
    {
      "cell_type": "markdown",
      "id": "1ff5f6ed",
      "metadata": {
        "id": "1ff5f6ed"
      },
      "source": [
        "*************************************************************************************************************************************************************************************************************************************"
      ]
    },
    {
      "cell_type": "markdown",
      "id": "b6553e60",
      "metadata": {
        "id": "b6553e60"
      },
      "source": [
        "# IV. Preparing Data for Machine Learning"
      ]
    },
    {
      "cell_type": "markdown",
      "id": "f61ffac1",
      "metadata": {
        "id": "f61ffac1"
      },
      "source": [
        "*************************************************************************************************************************************************************************************************************************************"
      ]
    },
    {
      "cell_type": "markdown",
      "id": "e8b9192b",
      "metadata": {
        "id": "e8b9192b"
      },
      "source": [
        "*This function prepares image data for machine learning tasks in 7 steps by dividing it into three distinct sets, while preserving the class balance.*\n",
        "\n",
        "**Steps:**\n",
        "\n",
        "1. Defining Function and Related Preparation Parameters: (\"path\", \"val_size\", \"test_size\", \"random_state\")\n",
        "\n",
        "2. Extracting Filenames and Categories: (\"Dog\" or not \"Dog\")\n",
        "\n",
        "3. Creating Pandas DataFrame: (\"pd.DataFrame\")\n",
        "\n",
        "4. Funneling Sets into Dataframes by employing train_test_split to Split Training and Temporary Sets: (\"train_df\", \"temp_df\")\n",
        "\n",
        "5. Creating a Validation ratio (\"val_ratio\") for use in making a Validation DataFrame: (\"val_df\")\n",
        "\n",
        "6. Splitting the Temporary Set into Validation and Test Sets: (\"val_df\", \"test_df\")\n",
        "\n",
        "7. Returning the Split DataFrames: \"train_df\", \"val_df\", \"test_df\"\n"
      ]
    },
    {
      "cell_type": "code",
      "execution_count": 78,
      "id": "c9e2594e",
      "metadata": {
        "id": "c9e2594e"
      },
      "outputs": [],
      "source": [
        "def prepare_data(path, val_size=0.20, test_size=0.20, random_state=4):\n",
        "\n",
        "    train_filenames = os.listdir(path)\n",
        "    train_categories = [1 if 'dog' in filename.lower() else 0 for filename in train_filenames]\n",
        "\n",
        "    df = pd.DataFrame({\n",
        "        'filename': train_filenames,\n",
        "        'category': train_categories\n",
        "    })\n",
        "\n",
        "\n",
        "    train_df, temp_df = train_test_split(df, test_size=(val_size + test_size), stratify=df[\"category\"], random_state=random_state)\n",
        "\n",
        "    val_ratio = val_size / (val_size + test_size)\n",
        "    val_df, test_df = train_test_split(temp_df, test_size=(1 - val_ratio), stratify=temp_df[\"category\"], random_state=random_state)\n",
        "\n",
        "    return train_df, val_df, test_df"
      ]
    },
    {
      "cell_type": "markdown",
      "id": "0086135f",
      "metadata": {
        "id": "0086135f"
      },
      "source": [
        "*Ensuring correct split value counts*"
      ]
    },
    {
      "cell_type": "code",
      "execution_count": 79,
      "id": "faa246b1",
      "metadata": {
        "colab": {
          "base_uri": "https://localhost:8080/"
        },
        "id": "faa246b1",
        "outputId": "7a0ef340-018a-4030-b4a9-0d13b0463cc0"
      },
      "outputs": [
        {
          "output_type": "stream",
          "name": "stdout",
          "text": [
            "Total Training Images: 15000\n",
            "Total Validation Images: 5000\n",
            "Total Test Images: 5000\n"
          ]
        }
      ],
      "source": [
        "train_df, val_df, test_df = prepare_data(path)\n",
        "print(f\"Total Training Images: {len(train_df)}\")\n",
        "print(f\"Total Validation Images: {len(val_df)}\")\n",
        "print(f\"Total Test Images: {len(test_df)}\")"
      ]
    },
    {
      "cell_type": "markdown",
      "id": "c625a3ac",
      "metadata": {
        "id": "c625a3ac"
      },
      "source": [
        "*************************************************************************************************************************************************************************************************************************************"
      ]
    },
    {
      "cell_type": "markdown",
      "id": "1b2d836f",
      "metadata": {
        "id": "1b2d836f"
      },
      "source": [
        "# V. Creating, Defining & Organizing \"Subsampled Dataset\""
      ]
    },
    {
      "cell_type": "markdown",
      "id": "24b59eb6",
      "metadata": {
        "id": "24b59eb6"
      },
      "source": [
        "*************************************************************************************************************************************************************************************************************************************"
      ]
    },
    {
      "cell_type": "markdown",
      "id": "8365b325",
      "metadata": {
        "id": "8365b325"
      },
      "source": [
        "**Subsampled Dataset**"
      ]
    },
    {
      "cell_type": "markdown",
      "id": "438ff694",
      "metadata": {
        "id": "438ff694"
      },
      "source": [
        "*This function organizes an image subset from a source directory into category-specific subdirectories (\"dogs\" and \"cats\") within a specified base directory (\"cats_vs_dogs\"), using information from our Pandas DataFrame.*\n",
        "\n",
        "*This is conducted in a **10-step** process:*\n",
        "\n",
        "1. Defining overarching logical functions and parameters\n",
        "\n",
        "2. Defining category directories for \"Dogs\" & \"Cats\": (\"os.path.join\")\n",
        "\n",
        "3. Creating category directories for \"Dogs\" & \"Cats\": (\"os.makedirs\")\n",
        "\n",
        "4. Setting the Source Path for the original images: (source_path)\n",
        "\n",
        "5. Creating forloop that brands cats as 0 and dogs as 1 to iterate through their respective categories\n",
        "\n",
        "6. Creating forloop to iterate through filenames for each category\n",
        "\n",
        "7. Ensuring that source path for the original images (\"src\") actually exists, after step 4\n",
        "\n",
        "8. (\"dst\") is a new directory structure with new brand filenames in \"cats\" & \"dogs\" folders\n",
        "\n",
        "9. Copying \"src\" (source path) & \"destination path\" (dst) images with \"shutil.copyfile\" command\n",
        "\n",
        "10. Creating & defining a new specified base directory ('base_dir\"), which will be referenced momentarily"
      ]
    },
    {
      "cell_type": "code",
      "execution_count": 80,
      "id": "YfXwTdr1q5RX",
      "metadata": {
        "id": "YfXwTdr1q5RX"
      },
      "outputs": [],
      "source": [
        "def subsampled_dataset(df, source_path, base_dir, dataset_type):\n",
        "    dogs_dir = os.path.join(base_dir, dataset_type, \"dogs\")\n",
        "    cats_dir = os.path.join(base_dir, dataset_type, \"cats\")\n",
        "    os.makedirs(dogs_dir, exist_ok=True)\n",
        "    os.makedirs(cats_dir, exist_ok=True)\n",
        "    source_path = Path(source_path)\n",
        "\n",
        "    for category, num, folder in [(\"cat\", 0, cats_dir), (\"dog\", 1, dogs_dir)]:\n",
        "        for i, filename in enumerate(df[df[\"category\"] == num][\"filename\"]):\n",
        "            src = source_path / filename\n",
        "            if not src.exists():\n",
        "                print(f\"Warning: {src} does not exist!\")\n",
        "                continue\n",
        "            dst = os.path.join(folder, f\"{category}{i}.jpg\")\n",
        "            shutil.copyfile(src, dst)\n",
        "\n",
        "base_dir = \"cats_vs_dogs\""
      ]
    },
    {
      "cell_type": "markdown",
      "id": "oiKTQCBaVL3J",
      "metadata": {
        "id": "oiKTQCBaVL3J"
      },
      "source": [
        "*************************************************************************************************************************************************************************************************************************************"
      ]
    },
    {
      "cell_type": "markdown",
      "id": "nbf_2bHDCznZ",
      "metadata": {
        "id": "nbf_2bHDCznZ"
      },
      "source": [
        "### Creating Binary Target Directories from subsampled datasets"
      ]
    },
    {
      "cell_type": "markdown",
      "id": "4a655dc8",
      "metadata": {
        "id": "4a655dc8"
      },
      "source": [
        "Calling 3 functions that takes a Pandas DataFrame (df), a source path (source_path), a base directory (base_dir), and a dataset type as inputs; each line contains a different dataset type (\"train\", \"test\", and \"validation\").\n",
        "\n",
        "The overall purpose is to copy image files from the source directory & create organized 2 target directories based on their categories (\"cats\" and \"dogs\").\n",
        "\n",
        "*Sidenote: As previously defined in the above function, if any source_path file doesn’t actually exist, a warning is generated and the file will be skipped.*"
      ]
    },
    {
      "cell_type": "code",
      "execution_count": 81,
      "id": "0f21c705",
      "metadata": {
        "id": "0f21c705"
      },
      "outputs": [],
      "source": [
        "subsampled_dataset(test_df, path, base_dir, \"test\")"
      ]
    },
    {
      "cell_type": "code",
      "execution_count": 82,
      "id": "d55bebd4",
      "metadata": {
        "id": "d55bebd4"
      },
      "outputs": [],
      "source": [
        "subsampled_dataset(train_df, path, base_dir, \"train\")"
      ]
    },
    {
      "cell_type": "code",
      "execution_count": 83,
      "id": "8d177ce2",
      "metadata": {
        "id": "8d177ce2"
      },
      "outputs": [],
      "source": [
        "subsampled_dataset(val_df, path, base_dir, \"validation\")"
      ]
    },
    {
      "cell_type": "markdown",
      "id": "c186d207",
      "metadata": {
        "id": "c186d207"
      },
      "source": [
        "*************************************************************************************************************************************************************************************************************************************"
      ]
    },
    {
      "cell_type": "markdown",
      "id": "cab26f09",
      "metadata": {
        "id": "cab26f09"
      },
      "source": [
        "*************************************************************************************************************************************************************************************************************************************"
      ]
    },
    {
      "cell_type": "markdown",
      "id": "d0233acb",
      "metadata": {
        "id": "d0233acb"
      },
      "source": [
        "# VI. Data Preprocessing"
      ]
    },
    {
      "cell_type": "markdown",
      "id": "548ac339",
      "metadata": {
        "id": "548ac339"
      },
      "source": [
        "*************************************************************************************************************************************************************************************************************************************"
      ]
    },
    {
      "cell_type": "markdown",
      "id": "d1499f1f",
      "metadata": {
        "id": "d1499f1f"
      },
      "source": [
        "**Differentiating Directory names**"
      ]
    },
    {
      "cell_type": "markdown",
      "id": "2eeb5fa3",
      "metadata": {
        "id": "2eeb5fa3"
      },
      "source": [
        "*\"base_dir\" specifies the directory containing the training images*\n",
        "\n",
        "*\"new_base_dir\" is a Path object version of the base directory string, providing more powerful ways to work with original \"base_dir\" path*"
      ]
    },
    {
      "cell_type": "code",
      "execution_count": 84,
      "id": "c289a826",
      "metadata": {
        "id": "c289a826"
      },
      "outputs": [],
      "source": [
        "new_base_dir = Path(base_dir)"
      ]
    },
    {
      "cell_type": "markdown",
      "id": "8466a276",
      "metadata": {
        "id": "8466a276"
      },
      "source": [
        "**Training Dataset**"
      ]
    },
    {
      "cell_type": "markdown",
      "id": "b5cc1784",
      "metadata": {
        "id": "b5cc1784"
      },
      "source": [
        "*\"image_dataset_from_directory\" is a TensorFlow/Keras utility that loads image data from a directory structure. It automatically infers class labels from the subdirectory names within the specified directory.*"
      ]
    },
    {
      "cell_type": "markdown",
      "id": "fd2b164d",
      "metadata": {
        "id": "fd2b164d"
      },
      "source": [
        "*\"new_base_dir\" is assumed to be a Path object (from the pathlib library) or a string representing the base directory.*"
      ]
    },
    {
      "cell_type": "markdown",
      "id": "3b3bd6c6",
      "metadata": {
        "id": "3b3bd6c6"
      },
      "source": [
        "*\"/train\" appends the \"train\" subdirectory to the base path, indicating that the training images are located within a folder named \"train\" inside the new_base_dir.*"
      ]
    },
    {
      "cell_type": "markdown",
      "id": "18442c9d",
      "metadata": {
        "id": "18442c9d"
      },
      "source": [
        "*The directory structure is expected to be organized such that each subdirectory within \"train\" represents a different class, and the images within each subdirectory belong to that class.*"
      ]
    },
    {
      "cell_type": "markdown",
      "id": "028e9ddd",
      "metadata": {
        "id": "028e9ddd"
      },
      "source": [
        "*\"batch_size=64\":\n",
        "This specifies that the dataset should be divided into batches of 64 images. During training, the model processes these batches of 32 images at a time. This is done for memory efficiency and to improve training speed.*"
      ]
    },
    {
      "cell_type": "markdown",
      "id": "472851e7",
      "metadata": {
        "id": "472851e7"
      },
      "source": [
        "*\"shuffle=True\":\n",
        "This shuffles the order of the images in the dataset. Shuffling is important to prevent the model from learning any biases related to the order of the data. It ensures that each batch contains a random selection of images.*"
      ]
    },
    {
      "cell_type": "code",
      "execution_count": 85,
      "id": "7cfa9394",
      "metadata": {
        "colab": {
          "base_uri": "https://localhost:8080/"
        },
        "id": "7cfa9394",
        "outputId": "2d8a7396-d4b5-46b3-9c86-2c55d17f85d5"
      },
      "outputs": [
        {
          "output_type": "stream",
          "name": "stdout",
          "text": [
            "Found 15000 files belonging to 2 classes.\n"
          ]
        }
      ],
      "source": [
        "train_dataset = image_dataset_from_directory(\n",
        "    new_base_dir / \"train\",\n",
        "    image_size=(180, 180),\n",
        "    batch_size=64,\n",
        "    shuffle=True,\n",
        "    seed=4\n",
        ")"
      ]
    },
    {
      "cell_type": "markdown",
      "id": "b212852f",
      "metadata": {
        "id": "b212852f"
      },
      "source": [
        "**Validation Dataset**"
      ]
    },
    {
      "cell_type": "code",
      "execution_count": 86,
      "id": "f9a6381f",
      "metadata": {
        "colab": {
          "base_uri": "https://localhost:8080/"
        },
        "id": "f9a6381f",
        "outputId": "a9184670-1730-48e3-fe8c-01c2ebdc1579"
      },
      "outputs": [
        {
          "output_type": "stream",
          "name": "stdout",
          "text": [
            "Found 5000 files belonging to 2 classes.\n"
          ]
        }
      ],
      "source": [
        "validation_dataset = image_dataset_from_directory(\n",
        "    new_base_dir / \"validation\",\n",
        "    image_size=(180, 180),\n",
        "    batch_size=64,\n",
        "    shuffle=True,\n",
        "    seed=4\n",
        ")"
      ]
    },
    {
      "cell_type": "markdown",
      "id": "eb31360c",
      "metadata": {
        "id": "eb31360c"
      },
      "source": [
        "**Test Dataset**"
      ]
    },
    {
      "cell_type": "code",
      "execution_count": 87,
      "id": "a4a20372",
      "metadata": {
        "colab": {
          "base_uri": "https://localhost:8080/"
        },
        "id": "a4a20372",
        "outputId": "758574be-2430-4370-819a-607a4cecbe0f"
      },
      "outputs": [
        {
          "output_type": "stream",
          "name": "stdout",
          "text": [
            "Found 5000 files belonging to 2 classes.\n"
          ]
        }
      ],
      "source": [
        "test_dataset = image_dataset_from_directory(\n",
        "    new_base_dir / \"test\",\n",
        "    image_size=(180, 180),\n",
        "    batch_size=64,\n",
        "    shuffle=True,\n",
        "    seed=4\n",
        ")"
      ]
    },
    {
      "cell_type": "code",
      "execution_count": 88,
      "id": "89ef5cc9",
      "metadata": {
        "colab": {
          "base_uri": "https://localhost:8080/"
        },
        "id": "89ef5cc9",
        "outputId": "9641f44f-3b05-4b83-dd53-cacf50de78f8"
      },
      "outputs": [
        {
          "output_type": "stream",
          "name": "stdout",
          "text": [
            "data batch shape: (64, 180, 180, 3)\n",
            "labels batch shape: (64,)\n"
          ]
        }
      ],
      "source": [
        "for data_batch, labels_batch in train_dataset:\n",
        "    print(\"data batch shape:\", data_batch.shape)\n",
        "    print(\"labels batch shape:\", labels_batch.shape)\n",
        "    break"
      ]
    },
    {
      "cell_type": "markdown",
      "id": "6793e8ff",
      "metadata": {
        "id": "6793e8ff"
      },
      "source": [
        "*************************************************************************************************************************************************************************************************************************************"
      ]
    },
    {
      "cell_type": "markdown",
      "id": "d7b785af",
      "metadata": {
        "id": "d7b785af"
      },
      "source": [
        "# VII. Custom Tf.Keras CNN Modeling with Accuracy & Loss Evaluations"
      ]
    },
    {
      "cell_type": "markdown",
      "id": "eed2512f",
      "metadata": {
        "id": "eed2512f"
      },
      "source": [
        "*************************************************************************************************************************************************************************************************************************************"
      ]
    },
    {
      "cell_type": "code",
      "execution_count": 89,
      "id": "7a7aa8b1",
      "metadata": {
        "id": "7a7aa8b1"
      },
      "outputs": [],
      "source": [
        "data_augmentation = keras.Sequential([\n",
        "    layers.RandomFlip(\"horizontal\"),\n",
        "    layers.RandomRotation(0.1),\n",
        "    layers.RandomZoom(0.1),\n",
        "])"
      ]
    },
    {
      "cell_type": "markdown",
      "id": "3b7bf09e",
      "metadata": {
        "id": "3b7bf09e"
      },
      "source": [
        "**Input Layers**"
      ]
    },
    {
      "cell_type": "code",
      "execution_count": 90,
      "id": "f7e81609",
      "metadata": {
        "id": "f7e81609"
      },
      "outputs": [],
      "source": [
        "inputs = keras.Input(shape=(180, 180, 3))"
      ]
    },
    {
      "cell_type": "markdown",
      "id": "b58380b4",
      "metadata": {
        "id": "b58380b4"
      },
      "source": [
        "**Conv Block 1**"
      ]
    },
    {
      "cell_type": "code",
      "execution_count": 91,
      "id": "d3c6f282",
      "metadata": {
        "id": "d3c6f282"
      },
      "outputs": [],
      "source": [
        "x = data_augmentation(inputs)\n",
        "x = layers.Rescaling(1./255)(x)\n",
        "x = layers.Conv2D(filters=32, kernel_size=3, activation=\"relu\")(x)\n",
        "x = layers.MaxPooling2D(pool_size=2)(x)"
      ]
    },
    {
      "cell_type": "markdown",
      "id": "a0bad8de",
      "metadata": {
        "id": "a0bad8de"
      },
      "source": [
        "**Conv Block 2**"
      ]
    },
    {
      "cell_type": "code",
      "execution_count": 92,
      "id": "f375a969",
      "metadata": {
        "id": "f375a969"
      },
      "outputs": [],
      "source": [
        "x = layers.Conv2D(filters=64, kernel_size=3, activation=\"relu\")(x)\n",
        "x = layers.MaxPooling2D(pool_size=2)(x)"
      ]
    },
    {
      "cell_type": "markdown",
      "id": "9a15290c",
      "metadata": {
        "id": "9a15290c"
      },
      "source": [
        "**Conv Block 3**"
      ]
    },
    {
      "cell_type": "code",
      "execution_count": 93,
      "id": "10b085c1",
      "metadata": {
        "id": "10b085c1"
      },
      "outputs": [],
      "source": [
        "x = layers.Conv2D(filters=128, kernel_size=3, activation=\"relu\")(x)\n",
        "x = layers.MaxPooling2D(pool_size=2)(x)"
      ]
    },
    {
      "cell_type": "markdown",
      "id": "16d0897c",
      "metadata": {
        "id": "16d0897c"
      },
      "source": [
        "**Conv Block 4**"
      ]
    },
    {
      "cell_type": "markdown",
      "id": "a8fac8a4",
      "metadata": {
        "id": "a8fac8a4"
      },
      "source": [
        "*The number of convolution block filters usually increase as we go deeper, because deeper layers learn more complex features - but at the cost of more parameters and longer training.*"
      ]
    },
    {
      "cell_type": "code",
      "execution_count": 94,
      "id": "9b9d7bd0",
      "metadata": {
        "id": "9b9d7bd0"
      },
      "outputs": [],
      "source": [
        "x = layers.Conv2D(filters=256, kernel_size=3, activation=\"relu\")(x)\n",
        "x = layers.MaxPooling2D(pool_size=2)(x)"
      ]
    },
    {
      "cell_type": "markdown",
      "id": "fa17666e",
      "metadata": {
        "id": "fa17666e"
      },
      "source": [
        "**Flatten Layer**"
      ]
    },
    {
      "cell_type": "code",
      "execution_count": 95,
      "id": "299e917c",
      "metadata": {
        "id": "299e917c"
      },
      "outputs": [],
      "source": [
        "x = layers.Flatten()(x)"
      ]
    },
    {
      "cell_type": "markdown",
      "id": "fbb9bc27",
      "metadata": {
        "id": "fbb9bc27"
      },
      "source": [
        "**Dropout Layer**"
      ]
    },
    {
      "cell_type": "code",
      "execution_count": 96,
      "id": "e9f9d0a2",
      "metadata": {
        "id": "e9f9d0a2"
      },
      "outputs": [],
      "source": [
        "x = layers.Dropout(0.5)(x)"
      ]
    },
    {
      "cell_type": "markdown",
      "id": "bced19c5",
      "metadata": {
        "id": "bced19c5"
      },
      "source": [
        "**Outputs**"
      ]
    },
    {
      "cell_type": "code",
      "execution_count": 97,
      "id": "3b3e9cf8",
      "metadata": {
        "id": "3b3e9cf8"
      },
      "outputs": [],
      "source": [
        "outputs = layers.Dense(1, activation=\"sigmoid\")(x)"
      ]
    },
    {
      "cell_type": "markdown",
      "id": "c6eed4c8",
      "metadata": {
        "id": "c6eed4c8"
      },
      "source": [
        "*************************************************************************************************************************************************************************************************************************************"
      ]
    },
    {
      "cell_type": "markdown",
      "id": "b797d78d",
      "metadata": {
        "id": "b797d78d"
      },
      "source": [
        "**Compile**"
      ]
    },
    {
      "cell_type": "markdown",
      "id": "7f3d961e",
      "metadata": {
        "id": "7f3d961e"
      },
      "source": [
        "*Specifically employing \"binary_crossentropy\" in compiling our model, because our task is binary classification (\"cats\" & \"dogs\")*"
      ]
    },
    {
      "cell_type": "code",
      "execution_count": 98,
      "id": "bba21c6f",
      "metadata": {
        "id": "bba21c6f"
      },
      "outputs": [],
      "source": [
        "model = keras.Model(inputs, outputs)\n",
        "\n",
        "adamw_optimizer = AdamW(\n",
        "    learning_rate=0.00050,\n",
        "    weight_decay=1e-3\n",
        ")\n",
        "\n",
        "model.compile(\n",
        "    loss=\"binary_crossentropy\",\n",
        "    optimizer=adamw_optimizer,\n",
        "    metrics=[\"accuracy\"]\n",
        ")"
      ]
    },
    {
      "cell_type": "markdown",
      "id": "5a87d2f3",
      "metadata": {
        "id": "5a87d2f3"
      },
      "source": [
        "**Callbacks**"
      ]
    },
    {
      "cell_type": "markdown",
      "id": "0e660095",
      "metadata": {
        "id": "0e660095"
      },
      "source": [
        "***EarlyStopping*** → *stops training when validation loss stops improving, so it doesn’t start going up*\n",
        "\n",
        "***ReduceLROnPlateau*** → *lowers the learning rate ***automatically*** if validation loss stops getting better*\n",
        "\n",
        "***Increased epochs*** → *training for more epochs is fine because EarlyStopping will stop it at the right time*\n",
        "\n",
        "***Weight decay*** = *1e-3 → helps the model avoid overfitting without making it too simple*\n",
        "\n",
        "***ModelCheckpoint*** → *automatically saves the model with the best validation loss*"
      ]
    },
    {
      "cell_type": "code",
      "execution_count": 99,
      "id": "bd211c44",
      "metadata": {
        "id": "bd211c44"
      },
      "outputs": [],
      "source": [
        "early_stop = EarlyStopping(\n",
        "    monitor='val_loss',\n",
        "    patience=5,\n",
        "    restore_best_weights=True\n",
        ")\n",
        "\n",
        "reduce_lr = ReduceLROnPlateau(\n",
        "    monitor='val_loss',\n",
        "    factor=0.25,\n",
        "    patience=1,\n",
        "    min_lr=1e-3,\n",
        "    verbose=1\n",
        ")\n",
        "\n",
        "checkpoint = ModelCheckpoint(\n",
        "    filepath=\"convnet_from_scratch.keras\",\n",
        "    save_best_only=True,\n",
        "    monitor=\"val_loss\",\n",
        "    verbose=1\n",
        ")\n",
        "\n",
        "callbacks = [early_stop, reduce_lr, checkpoint]"
      ]
    },
    {
      "cell_type": "markdown",
      "id": "7f317f3a",
      "metadata": {
        "id": "7f317f3a"
      },
      "source": [
        "**Fitting #1: Tensorflow-Keras Model**\n",
        "\n",
        "*Training time: roughly 20 minutes using NVIDIA Tesla T4 GPU - provided by Google*"
      ]
    },
    {
      "cell_type": "code",
      "execution_count": 100,
      "id": "dad77e46",
      "metadata": {
        "colab": {
          "base_uri": "https://localhost:8080/"
        },
        "id": "dad77e46",
        "outputId": "38538655-baa7-48d9-f189-c1c8124c02fd"
      },
      "outputs": [
        {
          "output_type": "stream",
          "name": "stdout",
          "text": [
            "Epoch 1/30\n",
            "\u001b[1m234/235\u001b[0m \u001b[32m━━━━━━━━━━━━━━━━━━━\u001b[0m\u001b[37m━\u001b[0m \u001b[1m0s\u001b[0m 78ms/step - accuracy: 0.5653 - loss: 0.6713\n",
            "Epoch 1: val_loss improved from inf to 0.56256, saving model to convnet_from_scratch.keras\n",
            "\u001b[1m235/235\u001b[0m \u001b[32m━━━━━━━━━━━━━━━━━━━━\u001b[0m\u001b[37m\u001b[0m \u001b[1m26s\u001b[0m 101ms/step - accuracy: 0.5658 - loss: 0.6710 - val_accuracy: 0.7128 - val_loss: 0.5626 - learning_rate: 5.0000e-04\n",
            "Epoch 2/30\n",
            "\u001b[1m234/235\u001b[0m \u001b[32m━━━━━━━━━━━━━━━━━━━\u001b[0m\u001b[37m━\u001b[0m \u001b[1m0s\u001b[0m 74ms/step - accuracy: 0.7097 - loss: 0.5625\n",
            "Epoch 2: val_loss improved from 0.56256 to 0.52967, saving model to convnet_from_scratch.keras\n",
            "\u001b[1m235/235\u001b[0m \u001b[32m━━━━━━━━━━━━━━━━━━━━\u001b[0m\u001b[37m\u001b[0m \u001b[1m39s\u001b[0m 92ms/step - accuracy: 0.7097 - loss: 0.5624 - val_accuracy: 0.7372 - val_loss: 0.5297 - learning_rate: 5.0000e-04\n",
            "Epoch 3/30\n",
            "\u001b[1m234/235\u001b[0m \u001b[32m━━━━━━━━━━━━━━━━━━━\u001b[0m\u001b[37m━\u001b[0m \u001b[1m0s\u001b[0m 76ms/step - accuracy: 0.7423 - loss: 0.5202\n",
            "Epoch 3: val_loss improved from 0.52967 to 0.50560, saving model to convnet_from_scratch.keras\n",
            "\u001b[1m235/235\u001b[0m \u001b[32m━━━━━━━━━━━━━━━━━━━━\u001b[0m\u001b[37m\u001b[0m \u001b[1m23s\u001b[0m 97ms/step - accuracy: 0.7424 - loss: 0.5201 - val_accuracy: 0.7514 - val_loss: 0.5056 - learning_rate: 5.0000e-04\n",
            "Epoch 4/30\n",
            "\u001b[1m234/235\u001b[0m \u001b[32m━━━━━━━━━━━━━━━━━━━\u001b[0m\u001b[37m━\u001b[0m \u001b[1m0s\u001b[0m 78ms/step - accuracy: 0.7708 - loss: 0.4806\n",
            "Epoch 4: val_loss improved from 0.50560 to 0.44204, saving model to convnet_from_scratch.keras\n",
            "\u001b[1m235/235\u001b[0m \u001b[32m━━━━━━━━━━━━━━━━━━━━\u001b[0m\u001b[37m\u001b[0m \u001b[1m42s\u001b[0m 100ms/step - accuracy: 0.7708 - loss: 0.4805 - val_accuracy: 0.7918 - val_loss: 0.4420 - learning_rate: 5.0000e-04\n",
            "Epoch 5/30\n",
            "\u001b[1m234/235\u001b[0m \u001b[32m━━━━━━━━━━━━━━━━━━━\u001b[0m\u001b[37m━\u001b[0m \u001b[1m0s\u001b[0m 76ms/step - accuracy: 0.7846 - loss: 0.4609\n",
            "Epoch 5: val_loss improved from 0.44204 to 0.43930, saving model to convnet_from_scratch.keras\n",
            "\u001b[1m235/235\u001b[0m \u001b[32m━━━━━━━━━━━━━━━━━━━━\u001b[0m\u001b[37m\u001b[0m \u001b[1m40s\u001b[0m 94ms/step - accuracy: 0.7846 - loss: 0.4609 - val_accuracy: 0.7886 - val_loss: 0.4393 - learning_rate: 5.0000e-04\n",
            "Epoch 6/30\n",
            "\u001b[1m234/235\u001b[0m \u001b[32m━━━━━━━━━━━━━━━━━━━\u001b[0m\u001b[37m━\u001b[0m \u001b[1m0s\u001b[0m 74ms/step - accuracy: 0.7951 - loss: 0.4408\n",
            "Epoch 6: val_loss did not improve from 0.43930\n",
            "\u001b[1m235/235\u001b[0m \u001b[32m━━━━━━━━━━━━━━━━━━━━\u001b[0m\u001b[37m\u001b[0m \u001b[1m41s\u001b[0m 95ms/step - accuracy: 0.7951 - loss: 0.4408 - val_accuracy: 0.8006 - val_loss: 0.4400 - learning_rate: 5.0000e-04\n",
            "Epoch 7/30\n",
            "\u001b[1m234/235\u001b[0m \u001b[32m━━━━━━━━━━━━━━━━━━━\u001b[0m\u001b[37m━\u001b[0m \u001b[1m0s\u001b[0m 77ms/step - accuracy: 0.8091 - loss: 0.4203\n",
            "Epoch 7: val_loss improved from 0.43930 to 0.40965, saving model to convnet_from_scratch.keras\n",
            "\u001b[1m235/235\u001b[0m \u001b[32m━━━━━━━━━━━━━━━━━━━━\u001b[0m\u001b[37m\u001b[0m \u001b[1m23s\u001b[0m 96ms/step - accuracy: 0.8091 - loss: 0.4202 - val_accuracy: 0.8104 - val_loss: 0.4096 - learning_rate: 5.0000e-04\n",
            "Epoch 8/30\n",
            "\u001b[1m234/235\u001b[0m \u001b[32m━━━━━━━━━━━━━━━━━━━\u001b[0m\u001b[37m━\u001b[0m \u001b[1m0s\u001b[0m 74ms/step - accuracy: 0.8236 - loss: 0.3911\n",
            "Epoch 8: val_loss improved from 0.40965 to 0.36495, saving model to convnet_from_scratch.keras\n",
            "\u001b[1m235/235\u001b[0m \u001b[32m━━━━━━━━━━━━━━━━━━━━\u001b[0m\u001b[37m\u001b[0m \u001b[1m40s\u001b[0m 92ms/step - accuracy: 0.8237 - loss: 0.3911 - val_accuracy: 0.8368 - val_loss: 0.3649 - learning_rate: 5.0000e-04\n",
            "Epoch 9/30\n",
            "\u001b[1m234/235\u001b[0m \u001b[32m━━━━━━━━━━━━━━━━━━━\u001b[0m\u001b[37m━\u001b[0m \u001b[1m0s\u001b[0m 77ms/step - accuracy: 0.8341 - loss: 0.3680\n",
            "Epoch 9: val_loss improved from 0.36495 to 0.34413, saving model to convnet_from_scratch.keras\n",
            "\u001b[1m235/235\u001b[0m \u001b[32m━━━━━━━━━━━━━━━━━━━━\u001b[0m\u001b[37m\u001b[0m \u001b[1m23s\u001b[0m 97ms/step - accuracy: 0.8341 - loss: 0.3681 - val_accuracy: 0.8494 - val_loss: 0.3441 - learning_rate: 5.0000e-04\n",
            "Epoch 10/30\n",
            "\u001b[1m234/235\u001b[0m \u001b[32m━━━━━━━━━━━━━━━━━━━\u001b[0m\u001b[37m━\u001b[0m \u001b[1m0s\u001b[0m 74ms/step - accuracy: 0.8359 - loss: 0.3627\n",
            "Epoch 10: val_loss improved from 0.34413 to 0.32759, saving model to convnet_from_scratch.keras\n",
            "\u001b[1m235/235\u001b[0m \u001b[32m━━━━━━━━━━━━━━━━━━━━\u001b[0m\u001b[37m\u001b[0m \u001b[1m23s\u001b[0m 97ms/step - accuracy: 0.8360 - loss: 0.3627 - val_accuracy: 0.8592 - val_loss: 0.3276 - learning_rate: 5.0000e-04\n",
            "Epoch 11/30\n",
            "\u001b[1m234/235\u001b[0m \u001b[32m━━━━━━━━━━━━━━━━━━━\u001b[0m\u001b[37m━\u001b[0m \u001b[1m0s\u001b[0m 74ms/step - accuracy: 0.8507 - loss: 0.3380\n",
            "Epoch 11: val_loss did not improve from 0.32759\n",
            "\u001b[1m235/235\u001b[0m \u001b[32m━━━━━━━━━━━━━━━━━━━━\u001b[0m\u001b[37m\u001b[0m \u001b[1m46s\u001b[0m 117ms/step - accuracy: 0.8508 - loss: 0.3380 - val_accuracy: 0.8530 - val_loss: 0.3406 - learning_rate: 5.0000e-04\n",
            "Epoch 12/30\n",
            "\u001b[1m234/235\u001b[0m \u001b[32m━━━━━━━━━━━━━━━━━━━\u001b[0m\u001b[37m━\u001b[0m \u001b[1m0s\u001b[0m 75ms/step - accuracy: 0.8627 - loss: 0.3212\n",
            "Epoch 12: val_loss improved from 0.32759 to 0.31168, saving model to convnet_from_scratch.keras\n",
            "\u001b[1m235/235\u001b[0m \u001b[32m━━━━━━━━━━━━━━━━━━━━\u001b[0m\u001b[37m\u001b[0m \u001b[1m36s\u001b[0m 98ms/step - accuracy: 0.8627 - loss: 0.3212 - val_accuracy: 0.8636 - val_loss: 0.3117 - learning_rate: 5.0000e-04\n",
            "Epoch 13/30\n",
            "\u001b[1m234/235\u001b[0m \u001b[32m━━━━━━━━━━━━━━━━━━━\u001b[0m\u001b[37m━\u001b[0m \u001b[1m0s\u001b[0m 74ms/step - accuracy: 0.8615 - loss: 0.3169\n",
            "Epoch 13: val_loss improved from 0.31168 to 0.29732, saving model to convnet_from_scratch.keras\n",
            "\u001b[1m235/235\u001b[0m \u001b[32m━━━━━━━━━━━━━━━━━━━━\u001b[0m\u001b[37m\u001b[0m \u001b[1m23s\u001b[0m 96ms/step - accuracy: 0.8615 - loss: 0.3168 - val_accuracy: 0.8734 - val_loss: 0.2973 - learning_rate: 5.0000e-04\n",
            "Epoch 14/30\n",
            "\u001b[1m234/235\u001b[0m \u001b[32m━━━━━━━━━━━━━━━━━━━\u001b[0m\u001b[37m━\u001b[0m \u001b[1m0s\u001b[0m 76ms/step - accuracy: 0.8701 - loss: 0.2994\n",
            "Epoch 14: val_loss improved from 0.29732 to 0.28498, saving model to convnet_from_scratch.keras\n",
            "\u001b[1m235/235\u001b[0m \u001b[32m━━━━━━━━━━━━━━━━━━━━\u001b[0m\u001b[37m\u001b[0m \u001b[1m22s\u001b[0m 95ms/step - accuracy: 0.8701 - loss: 0.2993 - val_accuracy: 0.8838 - val_loss: 0.2850 - learning_rate: 5.0000e-04\n",
            "Epoch 15/30\n",
            "\u001b[1m234/235\u001b[0m \u001b[32m━━━━━━━━━━━━━━━━━━━\u001b[0m\u001b[37m━\u001b[0m \u001b[1m0s\u001b[0m 74ms/step - accuracy: 0.8764 - loss: 0.2873\n",
            "Epoch 15: val_loss improved from 0.28498 to 0.27924, saving model to convnet_from_scratch.keras\n",
            "\u001b[1m235/235\u001b[0m \u001b[32m━━━━━━━━━━━━━━━━━━━━\u001b[0m\u001b[37m\u001b[0m \u001b[1m23s\u001b[0m 98ms/step - accuracy: 0.8765 - loss: 0.2873 - val_accuracy: 0.8846 - val_loss: 0.2792 - learning_rate: 5.0000e-04\n",
            "Epoch 16/30\n",
            "\u001b[1m234/235\u001b[0m \u001b[32m━━━━━━━━━━━━━━━━━━━\u001b[0m\u001b[37m━\u001b[0m \u001b[1m0s\u001b[0m 74ms/step - accuracy: 0.8800 - loss: 0.2731\n",
            "Epoch 16: val_loss improved from 0.27924 to 0.25529, saving model to convnet_from_scratch.keras\n",
            "\u001b[1m235/235\u001b[0m \u001b[32m━━━━━━━━━━━━━━━━━━━━\u001b[0m\u001b[37m\u001b[0m \u001b[1m22s\u001b[0m 92ms/step - accuracy: 0.8800 - loss: 0.2731 - val_accuracy: 0.8964 - val_loss: 0.2553 - learning_rate: 5.0000e-04\n",
            "Epoch 17/30\n",
            "\u001b[1m234/235\u001b[0m \u001b[32m━━━━━━━━━━━━━━━━━━━\u001b[0m\u001b[37m━\u001b[0m \u001b[1m0s\u001b[0m 79ms/step - accuracy: 0.8860 - loss: 0.2669\n",
            "Epoch 17: val_loss did not improve from 0.25529\n",
            "\u001b[1m235/235\u001b[0m \u001b[32m━━━━━━━━━━━━━━━━━━━━\u001b[0m\u001b[37m\u001b[0m \u001b[1m23s\u001b[0m 97ms/step - accuracy: 0.8860 - loss: 0.2669 - val_accuracy: 0.8918 - val_loss: 0.2642 - learning_rate: 5.0000e-04\n",
            "Epoch 18/30\n",
            "\u001b[1m234/235\u001b[0m \u001b[32m━━━━━━━━━━━━━━━━━━━\u001b[0m\u001b[37m━\u001b[0m \u001b[1m0s\u001b[0m 75ms/step - accuracy: 0.8928 - loss: 0.2512\n",
            "Epoch 18: val_loss improved from 0.25529 to 0.24311, saving model to convnet_from_scratch.keras\n",
            "\u001b[1m235/235\u001b[0m \u001b[32m━━━━━━━━━━━━━━━━━━━━\u001b[0m\u001b[37m\u001b[0m \u001b[1m40s\u001b[0m 93ms/step - accuracy: 0.8928 - loss: 0.2512 - val_accuracy: 0.9012 - val_loss: 0.2431 - learning_rate: 5.0000e-04\n",
            "Epoch 19/30\n",
            "\u001b[1m234/235\u001b[0m \u001b[32m━━━━━━━━━━━━━━━━━━━\u001b[0m\u001b[37m━\u001b[0m \u001b[1m0s\u001b[0m 75ms/step - accuracy: 0.8978 - loss: 0.2466\n",
            "Epoch 19: val_loss did not improve from 0.24311\n",
            "\u001b[1m235/235\u001b[0m \u001b[32m━━━━━━━━━━━━━━━━━━━━\u001b[0m\u001b[37m\u001b[0m \u001b[1m28s\u001b[0m 119ms/step - accuracy: 0.8978 - loss: 0.2467 - val_accuracy: 0.8714 - val_loss: 0.3002 - learning_rate: 5.0000e-04\n",
            "Epoch 20/30\n",
            "\u001b[1m234/235\u001b[0m \u001b[32m━━━━━━━━━━━━━━━━━━━\u001b[0m\u001b[37m━\u001b[0m \u001b[1m0s\u001b[0m 78ms/step - accuracy: 0.8990 - loss: 0.2407\n",
            "Epoch 20: val_loss did not improve from 0.24311\n",
            "\u001b[1m235/235\u001b[0m \u001b[32m━━━━━━━━━━━━━━━━━━━━\u001b[0m\u001b[37m\u001b[0m \u001b[1m36s\u001b[0m 97ms/step - accuracy: 0.8990 - loss: 0.2407 - val_accuracy: 0.8976 - val_loss: 0.2463 - learning_rate: 5.0000e-04\n",
            "Epoch 21/30\n",
            "\u001b[1m234/235\u001b[0m \u001b[32m━━━━━━━━━━━━━━━━━━━\u001b[0m\u001b[37m━\u001b[0m \u001b[1m0s\u001b[0m 78ms/step - accuracy: 0.9032 - loss: 0.2334\n",
            "Epoch 21: val_loss did not improve from 0.24311\n",
            "\u001b[1m235/235\u001b[0m \u001b[32m━━━━━━━━━━━━━━━━━━━━\u001b[0m\u001b[37m\u001b[0m \u001b[1m41s\u001b[0m 96ms/step - accuracy: 0.9032 - loss: 0.2335 - val_accuracy: 0.8984 - val_loss: 0.2505 - learning_rate: 5.0000e-04\n",
            "Epoch 22/30\n",
            "\u001b[1m234/235\u001b[0m \u001b[32m━━━━━━━━━━━━━━━━━━━\u001b[0m\u001b[37m━\u001b[0m \u001b[1m0s\u001b[0m 74ms/step - accuracy: 0.9030 - loss: 0.2320\n",
            "Epoch 22: val_loss improved from 0.24311 to 0.21830, saving model to convnet_from_scratch.keras\n",
            "\u001b[1m235/235\u001b[0m \u001b[32m━━━━━━━━━━━━━━━━━━━━\u001b[0m\u001b[37m\u001b[0m \u001b[1m40s\u001b[0m 92ms/step - accuracy: 0.9030 - loss: 0.2320 - val_accuracy: 0.9126 - val_loss: 0.2183 - learning_rate: 5.0000e-04\n",
            "Epoch 23/30\n",
            "\u001b[1m234/235\u001b[0m \u001b[32m━━━━━━━━━━━━━━━━━━━\u001b[0m\u001b[37m━\u001b[0m \u001b[1m0s\u001b[0m 77ms/step - accuracy: 0.9089 - loss: 0.2151\n",
            "Epoch 23: val_loss did not improve from 0.21830\n",
            "\u001b[1m235/235\u001b[0m \u001b[32m━━━━━━━━━━━━━━━━━━━━\u001b[0m\u001b[37m\u001b[0m \u001b[1m23s\u001b[0m 97ms/step - accuracy: 0.9089 - loss: 0.2151 - val_accuracy: 0.8926 - val_loss: 0.2600 - learning_rate: 5.0000e-04\n",
            "Epoch 24/30\n",
            "\u001b[1m234/235\u001b[0m \u001b[32m━━━━━━━━━━━━━━━━━━━\u001b[0m\u001b[37m━\u001b[0m \u001b[1m0s\u001b[0m 79ms/step - accuracy: 0.9041 - loss: 0.2211\n",
            "Epoch 24: val_loss did not improve from 0.21830\n",
            "\u001b[1m235/235\u001b[0m \u001b[32m━━━━━━━━━━━━━━━━━━━━\u001b[0m\u001b[37m\u001b[0m \u001b[1m42s\u001b[0m 100ms/step - accuracy: 0.9041 - loss: 0.2210 - val_accuracy: 0.9106 - val_loss: 0.2273 - learning_rate: 5.0000e-04\n",
            "Epoch 25/30\n",
            "\u001b[1m234/235\u001b[0m \u001b[32m━━━━━━━━━━━━━━━━━━━\u001b[0m\u001b[37m━\u001b[0m \u001b[1m0s\u001b[0m 74ms/step - accuracy: 0.9086 - loss: 0.2093\n",
            "Epoch 25: val_loss improved from 0.21830 to 0.21377, saving model to convnet_from_scratch.keras\n",
            "\u001b[1m235/235\u001b[0m \u001b[32m━━━━━━━━━━━━━━━━━━━━\u001b[0m\u001b[37m\u001b[0m \u001b[1m23s\u001b[0m 99ms/step - accuracy: 0.9086 - loss: 0.2093 - val_accuracy: 0.9122 - val_loss: 0.2138 - learning_rate: 5.0000e-04\n",
            "Epoch 26/30\n",
            "\u001b[1m234/235\u001b[0m \u001b[32m━━━━━━━━━━━━━━━━━━━\u001b[0m\u001b[37m━\u001b[0m \u001b[1m0s\u001b[0m 74ms/step - accuracy: 0.9174 - loss: 0.2013\n",
            "Epoch 26: val_loss did not improve from 0.21377\n",
            "\u001b[1m235/235\u001b[0m \u001b[32m━━━━━━━━━━━━━━━━━━━━\u001b[0m\u001b[37m\u001b[0m \u001b[1m23s\u001b[0m 96ms/step - accuracy: 0.9174 - loss: 0.2013 - val_accuracy: 0.9120 - val_loss: 0.2220 - learning_rate: 5.0000e-04\n",
            "Epoch 27/30\n",
            "\u001b[1m234/235\u001b[0m \u001b[32m━━━━━━━━━━━━━━━━━━━\u001b[0m\u001b[37m━\u001b[0m \u001b[1m0s\u001b[0m 78ms/step - accuracy: 0.9186 - loss: 0.1968\n",
            "Epoch 27: val_loss did not improve from 0.21377\n",
            "\u001b[1m235/235\u001b[0m \u001b[32m━━━━━━━━━━━━━━━━━━━━\u001b[0m\u001b[37m\u001b[0m \u001b[1m24s\u001b[0m 100ms/step - accuracy: 0.9186 - loss: 0.1968 - val_accuracy: 0.9024 - val_loss: 0.2444 - learning_rate: 5.0000e-04\n",
            "Epoch 28/30\n",
            "\u001b[1m234/235\u001b[0m \u001b[32m━━━━━━━━━━━━━━━━━━━\u001b[0m\u001b[37m━\u001b[0m \u001b[1m0s\u001b[0m 74ms/step - accuracy: 0.9213 - loss: 0.1925\n",
            "Epoch 28: val_loss did not improve from 0.21377\n",
            "\u001b[1m235/235\u001b[0m \u001b[32m━━━━━━━━━━━━━━━━━━━━\u001b[0m\u001b[37m\u001b[0m \u001b[1m39s\u001b[0m 92ms/step - accuracy: 0.9213 - loss: 0.1925 - val_accuracy: 0.9104 - val_loss: 0.2196 - learning_rate: 5.0000e-04\n",
            "Epoch 29/30\n",
            "\u001b[1m234/235\u001b[0m \u001b[32m━━━━━━━━━━━━━━━━━━━\u001b[0m\u001b[37m━\u001b[0m \u001b[1m0s\u001b[0m 75ms/step - accuracy: 0.9276 - loss: 0.1770\n",
            "Epoch 29: val_loss improved from 0.21377 to 0.20036, saving model to convnet_from_scratch.keras\n",
            "\u001b[1m235/235\u001b[0m \u001b[32m━━━━━━━━━━━━━━━━━━━━\u001b[0m\u001b[37m\u001b[0m \u001b[1m47s\u001b[0m 118ms/step - accuracy: 0.9276 - loss: 0.1770 - val_accuracy: 0.9224 - val_loss: 0.2004 - learning_rate: 5.0000e-04\n",
            "Epoch 30/30\n",
            "\u001b[1m234/235\u001b[0m \u001b[32m━━━━━━━━━━━━━━━━━━━\u001b[0m\u001b[37m━\u001b[0m \u001b[1m0s\u001b[0m 74ms/step - accuracy: 0.9251 - loss: 0.1831\n",
            "Epoch 30: val_loss did not improve from 0.20036\n",
            "\u001b[1m235/235\u001b[0m \u001b[32m━━━━━━━━━━━━━━━━━━━━\u001b[0m\u001b[37m\u001b[0m \u001b[1m23s\u001b[0m 98ms/step - accuracy: 0.9251 - loss: 0.1831 - val_accuracy: 0.8828 - val_loss: 0.2875 - learning_rate: 5.0000e-04\n",
            "✅ CNN model saved successfully as convnet_from_scratch.keras\n"
          ]
        }
      ],
      "source": [
        "history = model.fit(\n",
        "    train_dataset,\n",
        "    epochs=30,\n",
        "    validation_data=validation_dataset,\n",
        "    callbacks=callbacks)\n",
        "\n",
        "model.save(\"/content/convnet_from_scratch.keras\")\n",
        "print(\"✅ CNN model saved successfully as convnet_from_scratch.keras\")"
      ]
    },
    {
      "cell_type": "markdown",
      "id": "ffd199a7",
      "metadata": {
        "id": "ffd199a7"
      },
      "source": [
        "**Summary**"
      ]
    },
    {
      "cell_type": "code",
      "execution_count": 101,
      "id": "DgkaxYoxJQWM",
      "metadata": {
        "colab": {
          "base_uri": "https://localhost:8080/",
          "height": 629
        },
        "id": "DgkaxYoxJQWM",
        "outputId": "4fbd2066-df02-4bef-c79a-4a9d24d6d77e"
      },
      "outputs": [
        {
          "output_type": "display_data",
          "data": {
            "text/plain": [
              "\u001b[1mModel: \"functional_11\"\u001b[0m\n"
            ],
            "text/html": [
              "<pre style=\"white-space:pre;overflow-x:auto;line-height:normal;font-family:Menlo,'DejaVu Sans Mono',consolas,'Courier New',monospace\"><span style=\"font-weight: bold\">Model: \"functional_11\"</span>\n",
              "</pre>\n"
            ]
          },
          "metadata": {}
        },
        {
          "output_type": "display_data",
          "data": {
            "text/plain": [
              "┏━━━━━━━━━━━━━━━━━━━━━━━━━━━━━━━━━┳━━━━━━━━━━━━━━━━━━━━━━━━┳━━━━━━━━━━━━━━━┓\n",
              "┃\u001b[1m \u001b[0m\u001b[1mLayer (type)                   \u001b[0m\u001b[1m \u001b[0m┃\u001b[1m \u001b[0m\u001b[1mOutput Shape          \u001b[0m\u001b[1m \u001b[0m┃\u001b[1m \u001b[0m\u001b[1m      Param #\u001b[0m\u001b[1m \u001b[0m┃\n",
              "┡━━━━━━━━━━━━━━━━━━━━━━━━━━━━━━━━━╇━━━━━━━━━━━━━━━━━━━━━━━━╇━━━━━━━━━━━━━━━┩\n",
              "│ input_layer_5 (\u001b[38;5;33mInputLayer\u001b[0m)      │ (\u001b[38;5;45mNone\u001b[0m, \u001b[38;5;34m180\u001b[0m, \u001b[38;5;34m180\u001b[0m, \u001b[38;5;34m3\u001b[0m)    │             \u001b[38;5;34m0\u001b[0m │\n",
              "├─────────────────────────────────┼────────────────────────┼───────────────┤\n",
              "│ sequential_2 (\u001b[38;5;33mSequential\u001b[0m)       │ (\u001b[38;5;45mNone\u001b[0m, \u001b[38;5;34m180\u001b[0m, \u001b[38;5;34m180\u001b[0m, \u001b[38;5;34m3\u001b[0m)    │             \u001b[38;5;34m0\u001b[0m │\n",
              "├─────────────────────────────────┼────────────────────────┼───────────────┤\n",
              "│ rescaling_1 (\u001b[38;5;33mRescaling\u001b[0m)         │ (\u001b[38;5;45mNone\u001b[0m, \u001b[38;5;34m180\u001b[0m, \u001b[38;5;34m180\u001b[0m, \u001b[38;5;34m3\u001b[0m)    │             \u001b[38;5;34m0\u001b[0m │\n",
              "├─────────────────────────────────┼────────────────────────┼───────────────┤\n",
              "│ conv2d_4 (\u001b[38;5;33mConv2D\u001b[0m)               │ (\u001b[38;5;45mNone\u001b[0m, \u001b[38;5;34m178\u001b[0m, \u001b[38;5;34m178\u001b[0m, \u001b[38;5;34m32\u001b[0m)   │           \u001b[38;5;34m896\u001b[0m │\n",
              "├─────────────────────────────────┼────────────────────────┼───────────────┤\n",
              "│ max_pooling2d_4 (\u001b[38;5;33mMaxPooling2D\u001b[0m)  │ (\u001b[38;5;45mNone\u001b[0m, \u001b[38;5;34m89\u001b[0m, \u001b[38;5;34m89\u001b[0m, \u001b[38;5;34m32\u001b[0m)     │             \u001b[38;5;34m0\u001b[0m │\n",
              "├─────────────────────────────────┼────────────────────────┼───────────────┤\n",
              "│ conv2d_5 (\u001b[38;5;33mConv2D\u001b[0m)               │ (\u001b[38;5;45mNone\u001b[0m, \u001b[38;5;34m87\u001b[0m, \u001b[38;5;34m87\u001b[0m, \u001b[38;5;34m64\u001b[0m)     │        \u001b[38;5;34m18,496\u001b[0m │\n",
              "├─────────────────────────────────┼────────────────────────┼───────────────┤\n",
              "│ max_pooling2d_5 (\u001b[38;5;33mMaxPooling2D\u001b[0m)  │ (\u001b[38;5;45mNone\u001b[0m, \u001b[38;5;34m43\u001b[0m, \u001b[38;5;34m43\u001b[0m, \u001b[38;5;34m64\u001b[0m)     │             \u001b[38;5;34m0\u001b[0m │\n",
              "├─────────────────────────────────┼────────────────────────┼───────────────┤\n",
              "│ conv2d_6 (\u001b[38;5;33mConv2D\u001b[0m)               │ (\u001b[38;5;45mNone\u001b[0m, \u001b[38;5;34m41\u001b[0m, \u001b[38;5;34m41\u001b[0m, \u001b[38;5;34m128\u001b[0m)    │        \u001b[38;5;34m73,856\u001b[0m │\n",
              "├─────────────────────────────────┼────────────────────────┼───────────────┤\n",
              "│ max_pooling2d_6 (\u001b[38;5;33mMaxPooling2D\u001b[0m)  │ (\u001b[38;5;45mNone\u001b[0m, \u001b[38;5;34m20\u001b[0m, \u001b[38;5;34m20\u001b[0m, \u001b[38;5;34m128\u001b[0m)    │             \u001b[38;5;34m0\u001b[0m │\n",
              "├─────────────────────────────────┼────────────────────────┼───────────────┤\n",
              "│ conv2d_7 (\u001b[38;5;33mConv2D\u001b[0m)               │ (\u001b[38;5;45mNone\u001b[0m, \u001b[38;5;34m18\u001b[0m, \u001b[38;5;34m18\u001b[0m, \u001b[38;5;34m256\u001b[0m)    │       \u001b[38;5;34m295,168\u001b[0m │\n",
              "├─────────────────────────────────┼────────────────────────┼───────────────┤\n",
              "│ max_pooling2d_7 (\u001b[38;5;33mMaxPooling2D\u001b[0m)  │ (\u001b[38;5;45mNone\u001b[0m, \u001b[38;5;34m9\u001b[0m, \u001b[38;5;34m9\u001b[0m, \u001b[38;5;34m256\u001b[0m)      │             \u001b[38;5;34m0\u001b[0m │\n",
              "├─────────────────────────────────┼────────────────────────┼───────────────┤\n",
              "│ flatten_2 (\u001b[38;5;33mFlatten\u001b[0m)             │ (\u001b[38;5;45mNone\u001b[0m, \u001b[38;5;34m20736\u001b[0m)          │             \u001b[38;5;34m0\u001b[0m │\n",
              "├─────────────────────────────────┼────────────────────────┼───────────────┤\n",
              "│ dropout_2 (\u001b[38;5;33mDropout\u001b[0m)             │ (\u001b[38;5;45mNone\u001b[0m, \u001b[38;5;34m20736\u001b[0m)          │             \u001b[38;5;34m0\u001b[0m │\n",
              "├─────────────────────────────────┼────────────────────────┼───────────────┤\n",
              "│ dense_3 (\u001b[38;5;33mDense\u001b[0m)                 │ (\u001b[38;5;45mNone\u001b[0m, \u001b[38;5;34m1\u001b[0m)              │        \u001b[38;5;34m20,737\u001b[0m │\n",
              "└─────────────────────────────────┴────────────────────────┴───────────────┘\n"
            ],
            "text/html": [
              "<pre style=\"white-space:pre;overflow-x:auto;line-height:normal;font-family:Menlo,'DejaVu Sans Mono',consolas,'Courier New',monospace\">┏━━━━━━━━━━━━━━━━━━━━━━━━━━━━━━━━━┳━━━━━━━━━━━━━━━━━━━━━━━━┳━━━━━━━━━━━━━━━┓\n",
              "┃<span style=\"font-weight: bold\"> Layer (type)                    </span>┃<span style=\"font-weight: bold\"> Output Shape           </span>┃<span style=\"font-weight: bold\">       Param # </span>┃\n",
              "┡━━━━━━━━━━━━━━━━━━━━━━━━━━━━━━━━━╇━━━━━━━━━━━━━━━━━━━━━━━━╇━━━━━━━━━━━━━━━┩\n",
              "│ input_layer_5 (<span style=\"color: #0087ff; text-decoration-color: #0087ff\">InputLayer</span>)      │ (<span style=\"color: #00d7ff; text-decoration-color: #00d7ff\">None</span>, <span style=\"color: #00af00; text-decoration-color: #00af00\">180</span>, <span style=\"color: #00af00; text-decoration-color: #00af00\">180</span>, <span style=\"color: #00af00; text-decoration-color: #00af00\">3</span>)    │             <span style=\"color: #00af00; text-decoration-color: #00af00\">0</span> │\n",
              "├─────────────────────────────────┼────────────────────────┼───────────────┤\n",
              "│ sequential_2 (<span style=\"color: #0087ff; text-decoration-color: #0087ff\">Sequential</span>)       │ (<span style=\"color: #00d7ff; text-decoration-color: #00d7ff\">None</span>, <span style=\"color: #00af00; text-decoration-color: #00af00\">180</span>, <span style=\"color: #00af00; text-decoration-color: #00af00\">180</span>, <span style=\"color: #00af00; text-decoration-color: #00af00\">3</span>)    │             <span style=\"color: #00af00; text-decoration-color: #00af00\">0</span> │\n",
              "├─────────────────────────────────┼────────────────────────┼───────────────┤\n",
              "│ rescaling_1 (<span style=\"color: #0087ff; text-decoration-color: #0087ff\">Rescaling</span>)         │ (<span style=\"color: #00d7ff; text-decoration-color: #00d7ff\">None</span>, <span style=\"color: #00af00; text-decoration-color: #00af00\">180</span>, <span style=\"color: #00af00; text-decoration-color: #00af00\">180</span>, <span style=\"color: #00af00; text-decoration-color: #00af00\">3</span>)    │             <span style=\"color: #00af00; text-decoration-color: #00af00\">0</span> │\n",
              "├─────────────────────────────────┼────────────────────────┼───────────────┤\n",
              "│ conv2d_4 (<span style=\"color: #0087ff; text-decoration-color: #0087ff\">Conv2D</span>)               │ (<span style=\"color: #00d7ff; text-decoration-color: #00d7ff\">None</span>, <span style=\"color: #00af00; text-decoration-color: #00af00\">178</span>, <span style=\"color: #00af00; text-decoration-color: #00af00\">178</span>, <span style=\"color: #00af00; text-decoration-color: #00af00\">32</span>)   │           <span style=\"color: #00af00; text-decoration-color: #00af00\">896</span> │\n",
              "├─────────────────────────────────┼────────────────────────┼───────────────┤\n",
              "│ max_pooling2d_4 (<span style=\"color: #0087ff; text-decoration-color: #0087ff\">MaxPooling2D</span>)  │ (<span style=\"color: #00d7ff; text-decoration-color: #00d7ff\">None</span>, <span style=\"color: #00af00; text-decoration-color: #00af00\">89</span>, <span style=\"color: #00af00; text-decoration-color: #00af00\">89</span>, <span style=\"color: #00af00; text-decoration-color: #00af00\">32</span>)     │             <span style=\"color: #00af00; text-decoration-color: #00af00\">0</span> │\n",
              "├─────────────────────────────────┼────────────────────────┼───────────────┤\n",
              "│ conv2d_5 (<span style=\"color: #0087ff; text-decoration-color: #0087ff\">Conv2D</span>)               │ (<span style=\"color: #00d7ff; text-decoration-color: #00d7ff\">None</span>, <span style=\"color: #00af00; text-decoration-color: #00af00\">87</span>, <span style=\"color: #00af00; text-decoration-color: #00af00\">87</span>, <span style=\"color: #00af00; text-decoration-color: #00af00\">64</span>)     │        <span style=\"color: #00af00; text-decoration-color: #00af00\">18,496</span> │\n",
              "├─────────────────────────────────┼────────────────────────┼───────────────┤\n",
              "│ max_pooling2d_5 (<span style=\"color: #0087ff; text-decoration-color: #0087ff\">MaxPooling2D</span>)  │ (<span style=\"color: #00d7ff; text-decoration-color: #00d7ff\">None</span>, <span style=\"color: #00af00; text-decoration-color: #00af00\">43</span>, <span style=\"color: #00af00; text-decoration-color: #00af00\">43</span>, <span style=\"color: #00af00; text-decoration-color: #00af00\">64</span>)     │             <span style=\"color: #00af00; text-decoration-color: #00af00\">0</span> │\n",
              "├─────────────────────────────────┼────────────────────────┼───────────────┤\n",
              "│ conv2d_6 (<span style=\"color: #0087ff; text-decoration-color: #0087ff\">Conv2D</span>)               │ (<span style=\"color: #00d7ff; text-decoration-color: #00d7ff\">None</span>, <span style=\"color: #00af00; text-decoration-color: #00af00\">41</span>, <span style=\"color: #00af00; text-decoration-color: #00af00\">41</span>, <span style=\"color: #00af00; text-decoration-color: #00af00\">128</span>)    │        <span style=\"color: #00af00; text-decoration-color: #00af00\">73,856</span> │\n",
              "├─────────────────────────────────┼────────────────────────┼───────────────┤\n",
              "│ max_pooling2d_6 (<span style=\"color: #0087ff; text-decoration-color: #0087ff\">MaxPooling2D</span>)  │ (<span style=\"color: #00d7ff; text-decoration-color: #00d7ff\">None</span>, <span style=\"color: #00af00; text-decoration-color: #00af00\">20</span>, <span style=\"color: #00af00; text-decoration-color: #00af00\">20</span>, <span style=\"color: #00af00; text-decoration-color: #00af00\">128</span>)    │             <span style=\"color: #00af00; text-decoration-color: #00af00\">0</span> │\n",
              "├─────────────────────────────────┼────────────────────────┼───────────────┤\n",
              "│ conv2d_7 (<span style=\"color: #0087ff; text-decoration-color: #0087ff\">Conv2D</span>)               │ (<span style=\"color: #00d7ff; text-decoration-color: #00d7ff\">None</span>, <span style=\"color: #00af00; text-decoration-color: #00af00\">18</span>, <span style=\"color: #00af00; text-decoration-color: #00af00\">18</span>, <span style=\"color: #00af00; text-decoration-color: #00af00\">256</span>)    │       <span style=\"color: #00af00; text-decoration-color: #00af00\">295,168</span> │\n",
              "├─────────────────────────────────┼────────────────────────┼───────────────┤\n",
              "│ max_pooling2d_7 (<span style=\"color: #0087ff; text-decoration-color: #0087ff\">MaxPooling2D</span>)  │ (<span style=\"color: #00d7ff; text-decoration-color: #00d7ff\">None</span>, <span style=\"color: #00af00; text-decoration-color: #00af00\">9</span>, <span style=\"color: #00af00; text-decoration-color: #00af00\">9</span>, <span style=\"color: #00af00; text-decoration-color: #00af00\">256</span>)      │             <span style=\"color: #00af00; text-decoration-color: #00af00\">0</span> │\n",
              "├─────────────────────────────────┼────────────────────────┼───────────────┤\n",
              "│ flatten_2 (<span style=\"color: #0087ff; text-decoration-color: #0087ff\">Flatten</span>)             │ (<span style=\"color: #00d7ff; text-decoration-color: #00d7ff\">None</span>, <span style=\"color: #00af00; text-decoration-color: #00af00\">20736</span>)          │             <span style=\"color: #00af00; text-decoration-color: #00af00\">0</span> │\n",
              "├─────────────────────────────────┼────────────────────────┼───────────────┤\n",
              "│ dropout_2 (<span style=\"color: #0087ff; text-decoration-color: #0087ff\">Dropout</span>)             │ (<span style=\"color: #00d7ff; text-decoration-color: #00d7ff\">None</span>, <span style=\"color: #00af00; text-decoration-color: #00af00\">20736</span>)          │             <span style=\"color: #00af00; text-decoration-color: #00af00\">0</span> │\n",
              "├─────────────────────────────────┼────────────────────────┼───────────────┤\n",
              "│ dense_3 (<span style=\"color: #0087ff; text-decoration-color: #0087ff\">Dense</span>)                 │ (<span style=\"color: #00d7ff; text-decoration-color: #00d7ff\">None</span>, <span style=\"color: #00af00; text-decoration-color: #00af00\">1</span>)              │        <span style=\"color: #00af00; text-decoration-color: #00af00\">20,737</span> │\n",
              "└─────────────────────────────────┴────────────────────────┴───────────────┘\n",
              "</pre>\n"
            ]
          },
          "metadata": {}
        },
        {
          "output_type": "display_data",
          "data": {
            "text/plain": [
              "\u001b[1m Total params: \u001b[0m\u001b[38;5;34m1,227,461\u001b[0m (4.68 MB)\n"
            ],
            "text/html": [
              "<pre style=\"white-space:pre;overflow-x:auto;line-height:normal;font-family:Menlo,'DejaVu Sans Mono',consolas,'Courier New',monospace\"><span style=\"font-weight: bold\"> Total params: </span><span style=\"color: #00af00; text-decoration-color: #00af00\">1,227,461</span> (4.68 MB)\n",
              "</pre>\n"
            ]
          },
          "metadata": {}
        },
        {
          "output_type": "display_data",
          "data": {
            "text/plain": [
              "\u001b[1m Trainable params: \u001b[0m\u001b[38;5;34m409,153\u001b[0m (1.56 MB)\n"
            ],
            "text/html": [
              "<pre style=\"white-space:pre;overflow-x:auto;line-height:normal;font-family:Menlo,'DejaVu Sans Mono',consolas,'Courier New',monospace\"><span style=\"font-weight: bold\"> Trainable params: </span><span style=\"color: #00af00; text-decoration-color: #00af00\">409,153</span> (1.56 MB)\n",
              "</pre>\n"
            ]
          },
          "metadata": {}
        },
        {
          "output_type": "display_data",
          "data": {
            "text/plain": [
              "\u001b[1m Non-trainable params: \u001b[0m\u001b[38;5;34m0\u001b[0m (0.00 B)\n"
            ],
            "text/html": [
              "<pre style=\"white-space:pre;overflow-x:auto;line-height:normal;font-family:Menlo,'DejaVu Sans Mono',consolas,'Courier New',monospace\"><span style=\"font-weight: bold\"> Non-trainable params: </span><span style=\"color: #00af00; text-decoration-color: #00af00\">0</span> (0.00 B)\n",
              "</pre>\n"
            ]
          },
          "metadata": {}
        },
        {
          "output_type": "display_data",
          "data": {
            "text/plain": [
              "\u001b[1m Optimizer params: \u001b[0m\u001b[38;5;34m818,308\u001b[0m (3.12 MB)\n"
            ],
            "text/html": [
              "<pre style=\"white-space:pre;overflow-x:auto;line-height:normal;font-family:Menlo,'DejaVu Sans Mono',consolas,'Courier New',monospace\"><span style=\"font-weight: bold\"> Optimizer params: </span><span style=\"color: #00af00; text-decoration-color: #00af00\">818,308</span> (3.12 MB)\n",
              "</pre>\n"
            ]
          },
          "metadata": {}
        }
      ],
      "source": [
        "model.summary()"
      ]
    },
    {
      "cell_type": "markdown",
      "id": "18f34b97",
      "metadata": {
        "id": "18f34b97"
      },
      "source": [
        "*************************************************************************************************************************************************************************************************************************************"
      ]
    },
    {
      "cell_type": "markdown",
      "id": "cbf92de0",
      "metadata": {
        "id": "cbf92de0"
      },
      "source": [
        "### Organizing CNN Graphs"
      ]
    },
    {
      "cell_type": "code",
      "execution_count": 102,
      "id": "9871c590",
      "metadata": {
        "id": "9871c590"
      },
      "outputs": [],
      "source": [
        "epochs = list(range(1, len(history.history['loss']) + 1))\n",
        "accuracy = history.history['accuracy']\n",
        "val_accuracy = history.history['val_accuracy']\n",
        "loss = history.history['loss']\n",
        "val_loss = history.history['val_loss']\n",
        "\n",
        "epochs_np = np.array(epochs)\n",
        "accuracy_np = np.array(accuracy) * 100\n",
        "val_accuracy_np = np.array(val_accuracy) * 100\n",
        "\n",
        "if len(epochs_np) >= 4:\n",
        "    epochs_smooth = np.linspace(epochs_np.min(), epochs_np.max(), 500)\n",
        "    spl_acc = make_interp_spline(epochs_np, accuracy_np, k=3)\n",
        "    spl_val_acc = make_interp_spline(epochs_np, val_accuracy_np, k=3)\n",
        "    accuracy_smooth = spl_acc(epochs_smooth)\n",
        "    val_accuracy_smooth = spl_val_acc(epochs_smooth)\n",
        "else:\n",
        "    epochs_smooth = epochs_np\n",
        "    accuracy_smooth = accuracy_np\n",
        "    val_accuracy_smooth = val_accuracy_np"
      ]
    },
    {
      "cell_type": "markdown",
      "id": "UCAY8qzl-3LK",
      "metadata": {
        "id": "UCAY8qzl-3LK"
      },
      "source": [
        "### Plotting Accuracy & Loss Graphs for Convolutional Neural Network"
      ]
    },
    {
      "cell_type": "code",
      "execution_count": 103,
      "id": "479bd855",
      "metadata": {
        "colab": {
          "base_uri": "https://localhost:8080/",
          "height": 997
        },
        "id": "479bd855",
        "outputId": "693e0dfa-113d-40e1-d13f-a2774c74ef89"
      },
      "outputs": [
        {
          "output_type": "display_data",
          "data": {
            "text/plain": [
              "<Figure size 800x500 with 1 Axes>"
            ],
            "image/png": "[encoded data removed]"
          },
          "metadata": {}
        },
        {
          "output_type": "display_data",
          "data": {
            "text/plain": [
              "<Figure size 800x500 with 1 Axes>"
            ],
            "image/png": "[encoded data removed]"
          },
          "metadata": {}
        }
      ],
      "source": [
        "plt.figure(figsize=(8, 5))\n",
        "plt.plot(epochs_np, accuracy_np, \"bo\", label=\"Training accuracy\")\n",
        "plt.plot(epochs_smooth, accuracy_smooth, \"b-\", label=\"Training accuracy (smooth)\")\n",
        "plt.plot(epochs_np, val_accuracy_np, \"ro\", label=\"Validation accuracy\")\n",
        "plt.plot(epochs_smooth, val_accuracy_smooth, \"r-\", label=\"Validation accuracy (smooth)\")\n",
        "plt.title(\"CNN - Training and Validation Accuracy\")\n",
        "plt.xlabel(\"Epochs\")\n",
        "plt.ylabel(\"Accuracy (%)\")\n",
        "plt.legend()\n",
        "plt.grid(True, linestyle=\"--\", alpha=0.6)\n",
        "plt.tight_layout()\n",
        "plt.show()\n",
        "\n",
        "loss_np = np.array(loss)\n",
        "val_loss_np = np.array(val_loss)\n",
        "\n",
        "if len(epochs_np) >= 4:\n",
        "    spl_loss = make_interp_spline(epochs_np, loss_np, k=3)\n",
        "    spl_val_loss = make_interp_spline(epochs_np, val_loss_np, k=3)\n",
        "    loss_smooth = spl_loss(epochs_smooth)\n",
        "    val_loss_smooth = spl_val_loss(epochs_smooth)\n",
        "else:\n",
        "    loss_smooth = loss_np\n",
        "    val_loss_smooth = val_loss_np\n",
        "\n",
        "plt.figure(figsize=(8, 5))\n",
        "plt.plot(epochs_np, loss_np, \"bo\", label=\"Training loss\")\n",
        "plt.plot(epochs_smooth, loss_smooth, \"b-\", label=\"Training loss (smooth)\")\n",
        "plt.plot(epochs_np, val_loss_np, \"ro\", label=\"Validation loss\")\n",
        "plt.plot(epochs_smooth, val_loss_smooth, \"r-\", label=\"Validation loss (smooth)\")\n",
        "plt.title(\"CNN - Training and Validation Loss\")\n",
        "plt.xlabel(\"Epochs\")\n",
        "plt.ylabel(\"Loss\")\n",
        "plt.legend()\n",
        "plt.grid(True, linestyle=\"--\", alpha=0.6)\n",
        "plt.tight_layout()\n",
        "plt.show()"
      ]
    },
    {
      "cell_type": "markdown",
      "id": "ef1555d0",
      "metadata": {
        "id": "ef1555d0"
      },
      "source": [
        "*************************************************************************************************************************************************************************************************************************************"
      ]
    },
    {
      "cell_type": "markdown",
      "id": "f35802d4",
      "metadata": {
        "id": "f35802d4"
      },
      "source": [
        "### Sanity Check"
      ]
    },
    {
      "cell_type": "code",
      "execution_count": 104,
      "id": "19986946",
      "metadata": {
        "id": "19986946",
        "colab": {
          "base_uri": "https://localhost:8080/"
        },
        "outputId": "46c897e9-3440-4a57-fd77-9a88e7043a40"
      },
      "outputs": [
        {
          "output_type": "stream",
          "name": "stdout",
          "text": [
            "\n",
            "📂 Subsampled dataset check:\n",
            "Train - Cats: 7500, Dogs: 7500\n",
            "Validation - Cats: 2500, Dogs: 2500\n",
            "Test - Cats: 2500, Dogs: 2500\n",
            "\n",
            "🔬 Inspecting test directory and inferred class names:\n",
            "Contents of cats_vs_dogs/test: ['dogs', 'cats']...\n",
            "Found 5000 files belonging to 2 classes.\n",
            "Inferred class names: ['cats', 'dogs']\n",
            "\n",
            "🧪 TensorFlow test dataset label distribution:\n",
            "TF Test Dataset - Cats: 2500, Dogs: 2500\n",
            "\n",
            "🔍 Sample raw predictions:\n",
            "\u001b[1m2/2\u001b[0m \u001b[32m━━━━━━━━━━━━━━━━━━━━\u001b[0m\u001b[37m\u001b[0m \u001b[1m0s\u001b[0m 44ms/step \n",
            "Raw predictions: [7.9294033e-03 9.7772729e-01 1.9793522e-01 4.5019782e-01 2.8045624e-02\n",
            " 6.4561968e-03 1.1831846e-03 9.9163599e-02 4.4103161e-01 1.6044649e-05\n",
            " 1.6140860e-02 3.9143679e-01 4.3336517e-04 1.9980301e-01 9.9349856e-02\n",
            " 3.9494250e-02 7.2450528e-04 8.2546077e-04 9.4736060e-03 4.3969344e-02]\n",
            "Predicted classes: [0 1 0 0 0 0 0 0 0 0 0 0 0 0 0 0 0 0 0 0]\n",
            "True classes: [0 0 0 0 0 0 0 0 0 0 0 0 0 0 0 0 0 0 0 0]\n"
          ]
        }
      ],
      "source": [
        "base_dir = \"cats_vs_dogs\"\n",
        "train_dir = os.path.join(base_dir, \"train\")\n",
        "val_dir = os.path.join(base_dir, \"validation\")\n",
        "test_dir = os.path.join(base_dir, \"test\")\n",
        "\n",
        "print(\"\\n📂 Subsampled dataset check:\")\n",
        "for split in ['train', 'validation', 'test']:\n",
        "    cats_path = os.path.join(base_dir, split, 'cats')\n",
        "    dogs_path = os.path.join(base_dir, split, 'dogs')\n",
        "\n",
        "    if os.path.exists(cats_path) and os.path.exists(dogs_path):\n",
        "        print(f\"{split.title()} - Cats: {len(os.listdir(cats_path))}, Dogs: {len(os.listdir(dogs_path))}\")\n",
        "    else:\n",
        "        print(f\"{split.title()} directories not found.\")\n",
        "\n",
        "\n",
        "print(\"\\n🔬 Inspecting test directory and inferred class names:\")\n",
        "test_dir_path = Path(base_dir) / \"test\"\n",
        "\n",
        "if os.path.exists(test_dir_path):\n",
        "    print(f\"Contents of {test_dir_path}: {os.listdir(test_dir_path)[:10]}...\")\n",
        "    try:\n",
        "        test_dataset = tensorflow.keras.utils.image_dataset_from_directory(\n",
        "            test_dir_path,\n",
        "            image_size=(180, 180),\n",
        "            batch_size=64,\n",
        "            shuffle=False,\n",
        "            labels='inferred'\n",
        "        )\n",
        "        print(f\"Inferred class names: {test_dataset.class_names}\")\n",
        "        if len(test_dataset.class_names) != 2:\n",
        "            print(f\"\\n⚠️ Expected 2 classes, but found {len(test_dataset.class_names)}. Check directory structure.\")\n",
        "            test_dataset = None\n",
        "    except Exception as e:\n",
        "        print(f\"Error creating test_dataset: {e}\")\n",
        "        test_dataset = None\n",
        "else:\n",
        "    print(f\"Test directory not found at {test_dir_path}\")\n",
        "    test_dataset = None\n",
        "\n",
        "\n",
        "dog_count = 0\n",
        "cat_count = 0\n",
        "\n",
        "if test_dataset is not None and len(test_dataset.class_names) == 2:\n",
        "    for images, labels in test_dataset:\n",
        "        dog_count += (labels.numpy() == 1).sum()\n",
        "        cat_count += (labels.numpy() == 0).sum()\n",
        "\n",
        "    print(\"\\n🧪 TensorFlow test dataset label distribution:\")\n",
        "    print(f\"TF Test Dataset - Cats: {cat_count}, Dogs: {dog_count}\")\n",
        "\n",
        "    from tensorflow.keras.models import load_model\n",
        "\n",
        "    model_path = \"convnet_from_scratch.keras\"\n",
        "    if os.path.exists(model_path):\n",
        "        model = load_model(model_path)\n",
        "\n",
        "        print(\"\\n🔍 Sample raw predictions:\")\n",
        "        for images, labels in test_dataset.take(1):\n",
        "            preds = model.predict(images).flatten()\n",
        "            print(\"Raw predictions:\", preds[:20])\n",
        "            print(\"Predicted classes:\", (preds > 0.5).astype(int)[:20])\n",
        "            print(\"True classes:\", labels.numpy()[:20])\n",
        "    else:\n",
        "        print(f\"\\n⚠️ Model file not found at {model_path}. Skipping predictions.\")\n",
        "else:\n",
        "    print(\"\\n Skipping dataset iteration and predictions due to error creating test_dataset or incorrect number of classes.\")"
      ]
    },
    {
      "cell_type": "code",
      "execution_count": 105,
      "id": "Y592asVIpmPu",
      "metadata": {
        "id": "Y592asVIpmPu",
        "colab": {
          "base_uri": "https://localhost:8080/"
        },
        "outputId": "c4819780-8a27-45be-9141-05b9ad512ec6"
      },
      "outputs": [
        {
          "output_type": "stream",
          "name": "stdout",
          "text": [
            "\u001b[1m79/79\u001b[0m \u001b[32m━━━━━━━━━━━━━━━━━━━━\u001b[0m\u001b[37m\u001b[0m \u001b[1m5s\u001b[0m 58ms/step\n",
            "First 20 predicted classes: [0 1 0 0 0 0 0 0 0 0 0 0 0 0 0 0 0 0 0 0]\n"
          ]
        }
      ],
      "source": [
        "from tensorflow import keras\n",
        "\n",
        "model = keras.models.load_model(\"/content/convnet_from_scratch.keras\")\n",
        "\n",
        "preds = model.predict(test_dataset)\n",
        "predicted_classes = (preds > 0.5).astype(\"int32\").flatten()\n",
        "\n",
        "print(\"First 20 predicted classes:\", predicted_classes[:20])"
      ]
    },
    {
      "cell_type": "markdown",
      "id": "119147ea",
      "metadata": {
        "id": "119147ea"
      },
      "source": [
        "*************************************************************************************************************************************************************************************************************************************"
      ]
    },
    {
      "cell_type": "markdown",
      "id": "0f359d0e",
      "metadata": {
        "id": "0f359d0e"
      },
      "source": [
        "# VIII. Transfer Learning \"VGG16 Model\" (Feature Extraction with Data Augmentation)"
      ]
    },
    {
      "cell_type": "markdown",
      "id": "5f9eec31",
      "metadata": {
        "id": "5f9eec31"
      },
      "source": [
        "*************************************************************************************************************************************************************************************************************************************"
      ]
    },
    {
      "cell_type": "code",
      "execution_count": 106,
      "id": "2208312b",
      "metadata": {
        "id": "2208312b"
      },
      "outputs": [],
      "source": [
        "from tensorflow.keras.applications.vgg16 import VGG16"
      ]
    },
    {
      "cell_type": "markdown",
      "id": "ee0d69f8",
      "metadata": {
        "id": "ee0d69f8"
      },
      "source": [
        "*This code block loads the VGG16 model, removing its classification head, and prepares it to receive images of size 180x180x3.*"
      ]
    },
    {
      "cell_type": "markdown",
      "id": "3301df9e",
      "metadata": {
        "id": "3301df9e"
      },
      "source": [
        "**Loading VGG Model**"
      ]
    },
    {
      "cell_type": "code",
      "execution_count": 107,
      "id": "6860d8e9",
      "metadata": {
        "id": "6860d8e9"
      },
      "outputs": [],
      "source": [
        "conv_base  = keras.applications.vgg16.VGG16(\n",
        "    weights=\"imagenet\",\n",
        "    include_top=False,\n",
        "    input_shape=(180, 180, 3))"
      ]
    },
    {
      "cell_type": "markdown",
      "id": "aeefbc30",
      "metadata": {
        "id": "aeefbc30"
      },
      "source": [
        "**Architecture Summary Display:**\n",
        "\n",
        "Layer Type\n",
        "\n",
        "Output Shape\n",
        "\n",
        "Total Params\n",
        "\n",
        "Trainable Params\n",
        "\n",
        "Non-Trainable Params"
      ]
    },
    {
      "cell_type": "code",
      "execution_count": 108,
      "id": "0d36c80c",
      "metadata": {
        "id": "0d36c80c",
        "colab": {
          "base_uri": "https://localhost:8080/",
          "height": 782
        },
        "outputId": "040c1c85-6053-47aa-e0c3-1bd78fb580ec"
      },
      "outputs": [
        {
          "output_type": "display_data",
          "data": {
            "text/plain": [
              "\u001b[1mModel: \"vgg16\"\u001b[0m\n"
            ],
            "text/html": [
              "<pre style=\"white-space:pre;overflow-x:auto;line-height:normal;font-family:Menlo,'DejaVu Sans Mono',consolas,'Courier New',monospace\"><span style=\"font-weight: bold\">Model: \"vgg16\"</span>\n",
              "</pre>\n"
            ]
          },
          "metadata": {}
        },
        {
          "output_type": "display_data",
          "data": {
            "text/plain": [
              "┏━━━━━━━━━━━━━━━━━━━━━━━━━━━━━━━━━┳━━━━━━━━━━━━━━━━━━━━━━━━┳━━━━━━━━━━━━━━━┓\n",
              "┃\u001b[1m \u001b[0m\u001b[1mLayer (type)                   \u001b[0m\u001b[1m \u001b[0m┃\u001b[1m \u001b[0m\u001b[1mOutput Shape          \u001b[0m\u001b[1m \u001b[0m┃\u001b[1m \u001b[0m\u001b[1m      Param #\u001b[0m\u001b[1m \u001b[0m┃\n",
              "┡━━━━━━━━━━━━━━━━━━━━━━━━━━━━━━━━━╇━━━━━━━━━━━━━━━━━━━━━━━━╇━━━━━━━━━━━━━━━┩\n",
              "│ input_layer_7 (\u001b[38;5;33mInputLayer\u001b[0m)      │ (\u001b[38;5;45mNone\u001b[0m, \u001b[38;5;34m180\u001b[0m, \u001b[38;5;34m180\u001b[0m, \u001b[38;5;34m3\u001b[0m)    │             \u001b[38;5;34m0\u001b[0m │\n",
              "├─────────────────────────────────┼────────────────────────┼───────────────┤\n",
              "│ block1_conv1 (\u001b[38;5;33mConv2D\u001b[0m)           │ (\u001b[38;5;45mNone\u001b[0m, \u001b[38;5;34m180\u001b[0m, \u001b[38;5;34m180\u001b[0m, \u001b[38;5;34m64\u001b[0m)   │         \u001b[38;5;34m1,792\u001b[0m │\n",
              "├─────────────────────────────────┼────────────────────────┼───────────────┤\n",
              "│ block1_conv2 (\u001b[38;5;33mConv2D\u001b[0m)           │ (\u001b[38;5;45mNone\u001b[0m, \u001b[38;5;34m180\u001b[0m, \u001b[38;5;34m180\u001b[0m, \u001b[38;5;34m64\u001b[0m)   │        \u001b[38;5;34m36,928\u001b[0m │\n",
              "├─────────────────────────────────┼────────────────────────┼───────────────┤\n",
              "│ block1_pool (\u001b[38;5;33mMaxPooling2D\u001b[0m)      │ (\u001b[38;5;45mNone\u001b[0m, \u001b[38;5;34m90\u001b[0m, \u001b[38;5;34m90\u001b[0m, \u001b[38;5;34m64\u001b[0m)     │             \u001b[38;5;34m0\u001b[0m │\n",
              "├─────────────────────────────────┼────────────────────────┼───────────────┤\n",
              "│ block2_conv1 (\u001b[38;5;33mConv2D\u001b[0m)           │ (\u001b[38;5;45mNone\u001b[0m, \u001b[38;5;34m90\u001b[0m, \u001b[38;5;34m90\u001b[0m, \u001b[38;5;34m128\u001b[0m)    │        \u001b[38;5;34m73,856\u001b[0m │\n",
              "├─────────────────────────────────┼────────────────────────┼───────────────┤\n",
              "│ block2_conv2 (\u001b[38;5;33mConv2D\u001b[0m)           │ (\u001b[38;5;45mNone\u001b[0m, \u001b[38;5;34m90\u001b[0m, \u001b[38;5;34m90\u001b[0m, \u001b[38;5;34m128\u001b[0m)    │       \u001b[38;5;34m147,584\u001b[0m │\n",
              "├─────────────────────────────────┼────────────────────────┼───────────────┤\n",
              "│ block2_pool (\u001b[38;5;33mMaxPooling2D\u001b[0m)      │ (\u001b[38;5;45mNone\u001b[0m, \u001b[38;5;34m45\u001b[0m, \u001b[38;5;34m45\u001b[0m, \u001b[38;5;34m128\u001b[0m)    │             \u001b[38;5;34m0\u001b[0m │\n",
              "├─────────────────────────────────┼────────────────────────┼───────────────┤\n",
              "│ block3_conv1 (\u001b[38;5;33mConv2D\u001b[0m)           │ (\u001b[38;5;45mNone\u001b[0m, \u001b[38;5;34m45\u001b[0m, \u001b[38;5;34m45\u001b[0m, \u001b[38;5;34m256\u001b[0m)    │       \u001b[38;5;34m295,168\u001b[0m │\n",
              "├─────────────────────────────────┼────────────────────────┼───────────────┤\n",
              "│ block3_conv2 (\u001b[38;5;33mConv2D\u001b[0m)           │ (\u001b[38;5;45mNone\u001b[0m, \u001b[38;5;34m45\u001b[0m, \u001b[38;5;34m45\u001b[0m, \u001b[38;5;34m256\u001b[0m)    │       \u001b[38;5;34m590,080\u001b[0m │\n",
              "├─────────────────────────────────┼────────────────────────┼───────────────┤\n",
              "│ block3_conv3 (\u001b[38;5;33mConv2D\u001b[0m)           │ (\u001b[38;5;45mNone\u001b[0m, \u001b[38;5;34m45\u001b[0m, \u001b[38;5;34m45\u001b[0m, \u001b[38;5;34m256\u001b[0m)    │       \u001b[38;5;34m590,080\u001b[0m │\n",
              "├─────────────────────────────────┼────────────────────────┼───────────────┤\n",
              "│ block3_pool (\u001b[38;5;33mMaxPooling2D\u001b[0m)      │ (\u001b[38;5;45mNone\u001b[0m, \u001b[38;5;34m22\u001b[0m, \u001b[38;5;34m22\u001b[0m, \u001b[38;5;34m256\u001b[0m)    │             \u001b[38;5;34m0\u001b[0m │\n",
              "├─────────────────────────────────┼────────────────────────┼───────────────┤\n",
              "│ block4_conv1 (\u001b[38;5;33mConv2D\u001b[0m)           │ (\u001b[38;5;45mNone\u001b[0m, \u001b[38;5;34m22\u001b[0m, \u001b[38;5;34m22\u001b[0m, \u001b[38;5;34m512\u001b[0m)    │     \u001b[38;5;34m1,180,160\u001b[0m │\n",
              "├─────────────────────────────────┼────────────────────────┼───────────────┤\n",
              "│ block4_conv2 (\u001b[38;5;33mConv2D\u001b[0m)           │ (\u001b[38;5;45mNone\u001b[0m, \u001b[38;5;34m22\u001b[0m, \u001b[38;5;34m22\u001b[0m, \u001b[38;5;34m512\u001b[0m)    │     \u001b[38;5;34m2,359,808\u001b[0m │\n",
              "├─────────────────────────────────┼────────────────────────┼───────────────┤\n",
              "│ block4_conv3 (\u001b[38;5;33mConv2D\u001b[0m)           │ (\u001b[38;5;45mNone\u001b[0m, \u001b[38;5;34m22\u001b[0m, \u001b[38;5;34m22\u001b[0m, \u001b[38;5;34m512\u001b[0m)    │     \u001b[38;5;34m2,359,808\u001b[0m │\n",
              "├─────────────────────────────────┼────────────────────────┼───────────────┤\n",
              "│ block4_pool (\u001b[38;5;33mMaxPooling2D\u001b[0m)      │ (\u001b[38;5;45mNone\u001b[0m, \u001b[38;5;34m11\u001b[0m, \u001b[38;5;34m11\u001b[0m, \u001b[38;5;34m512\u001b[0m)    │             \u001b[38;5;34m0\u001b[0m │\n",
              "├─────────────────────────────────┼────────────────────────┼───────────────┤\n",
              "│ block5_conv1 (\u001b[38;5;33mConv2D\u001b[0m)           │ (\u001b[38;5;45mNone\u001b[0m, \u001b[38;5;34m11\u001b[0m, \u001b[38;5;34m11\u001b[0m, \u001b[38;5;34m512\u001b[0m)    │     \u001b[38;5;34m2,359,808\u001b[0m │\n",
              "├─────────────────────────────────┼────────────────────────┼───────────────┤\n",
              "│ block5_conv2 (\u001b[38;5;33mConv2D\u001b[0m)           │ (\u001b[38;5;45mNone\u001b[0m, \u001b[38;5;34m11\u001b[0m, \u001b[38;5;34m11\u001b[0m, \u001b[38;5;34m512\u001b[0m)    │     \u001b[38;5;34m2,359,808\u001b[0m │\n",
              "├─────────────────────────────────┼────────────────────────┼───────────────┤\n",
              "│ block5_conv3 (\u001b[38;5;33mConv2D\u001b[0m)           │ (\u001b[38;5;45mNone\u001b[0m, \u001b[38;5;34m11\u001b[0m, \u001b[38;5;34m11\u001b[0m, \u001b[38;5;34m512\u001b[0m)    │     \u001b[38;5;34m2,359,808\u001b[0m │\n",
              "├─────────────────────────────────┼────────────────────────┼───────────────┤\n",
              "│ block5_pool (\u001b[38;5;33mMaxPooling2D\u001b[0m)      │ (\u001b[38;5;45mNone\u001b[0m, \u001b[38;5;34m5\u001b[0m, \u001b[38;5;34m5\u001b[0m, \u001b[38;5;34m512\u001b[0m)      │             \u001b[38;5;34m0\u001b[0m │\n",
              "└─────────────────────────────────┴────────────────────────┴───────────────┘\n"
            ],
            "text/html": [
              "<pre style=\"white-space:pre;overflow-x:auto;line-height:normal;font-family:Menlo,'DejaVu Sans Mono',consolas,'Courier New',monospace\">┏━━━━━━━━━━━━━━━━━━━━━━━━━━━━━━━━━┳━━━━━━━━━━━━━━━━━━━━━━━━┳━━━━━━━━━━━━━━━┓\n",
              "┃<span style=\"font-weight: bold\"> Layer (type)                    </span>┃<span style=\"font-weight: bold\"> Output Shape           </span>┃<span style=\"font-weight: bold\">       Param # </span>┃\n",
              "┡━━━━━━━━━━━━━━━━━━━━━━━━━━━━━━━━━╇━━━━━━━━━━━━━━━━━━━━━━━━╇━━━━━━━━━━━━━━━┩\n",
              "│ input_layer_7 (<span style=\"color: #0087ff; text-decoration-color: #0087ff\">InputLayer</span>)      │ (<span style=\"color: #00d7ff; text-decoration-color: #00d7ff\">None</span>, <span style=\"color: #00af00; text-decoration-color: #00af00\">180</span>, <span style=\"color: #00af00; text-decoration-color: #00af00\">180</span>, <span style=\"color: #00af00; text-decoration-color: #00af00\">3</span>)    │             <span style=\"color: #00af00; text-decoration-color: #00af00\">0</span> │\n",
              "├─────────────────────────────────┼────────────────────────┼───────────────┤\n",
              "│ block1_conv1 (<span style=\"color: #0087ff; text-decoration-color: #0087ff\">Conv2D</span>)           │ (<span style=\"color: #00d7ff; text-decoration-color: #00d7ff\">None</span>, <span style=\"color: #00af00; text-decoration-color: #00af00\">180</span>, <span style=\"color: #00af00; text-decoration-color: #00af00\">180</span>, <span style=\"color: #00af00; text-decoration-color: #00af00\">64</span>)   │         <span style=\"color: #00af00; text-decoration-color: #00af00\">1,792</span> │\n",
              "├─────────────────────────────────┼────────────────────────┼───────────────┤\n",
              "│ block1_conv2 (<span style=\"color: #0087ff; text-decoration-color: #0087ff\">Conv2D</span>)           │ (<span style=\"color: #00d7ff; text-decoration-color: #00d7ff\">None</span>, <span style=\"color: #00af00; text-decoration-color: #00af00\">180</span>, <span style=\"color: #00af00; text-decoration-color: #00af00\">180</span>, <span style=\"color: #00af00; text-decoration-color: #00af00\">64</span>)   │        <span style=\"color: #00af00; text-decoration-color: #00af00\">36,928</span> │\n",
              "├─────────────────────────────────┼────────────────────────┼───────────────┤\n",
              "│ block1_pool (<span style=\"color: #0087ff; text-decoration-color: #0087ff\">MaxPooling2D</span>)      │ (<span style=\"color: #00d7ff; text-decoration-color: #00d7ff\">None</span>, <span style=\"color: #00af00; text-decoration-color: #00af00\">90</span>, <span style=\"color: #00af00; text-decoration-color: #00af00\">90</span>, <span style=\"color: #00af00; text-decoration-color: #00af00\">64</span>)     │             <span style=\"color: #00af00; text-decoration-color: #00af00\">0</span> │\n",
              "├─────────────────────────────────┼────────────────────────┼───────────────┤\n",
              "│ block2_conv1 (<span style=\"color: #0087ff; text-decoration-color: #0087ff\">Conv2D</span>)           │ (<span style=\"color: #00d7ff; text-decoration-color: #00d7ff\">None</span>, <span style=\"color: #00af00; text-decoration-color: #00af00\">90</span>, <span style=\"color: #00af00; text-decoration-color: #00af00\">90</span>, <span style=\"color: #00af00; text-decoration-color: #00af00\">128</span>)    │        <span style=\"color: #00af00; text-decoration-color: #00af00\">73,856</span> │\n",
              "├─────────────────────────────────┼────────────────────────┼───────────────┤\n",
              "│ block2_conv2 (<span style=\"color: #0087ff; text-decoration-color: #0087ff\">Conv2D</span>)           │ (<span style=\"color: #00d7ff; text-decoration-color: #00d7ff\">None</span>, <span style=\"color: #00af00; text-decoration-color: #00af00\">90</span>, <span style=\"color: #00af00; text-decoration-color: #00af00\">90</span>, <span style=\"color: #00af00; text-decoration-color: #00af00\">128</span>)    │       <span style=\"color: #00af00; text-decoration-color: #00af00\">147,584</span> │\n",
              "├─────────────────────────────────┼────────────────────────┼───────────────┤\n",
              "│ block2_pool (<span style=\"color: #0087ff; text-decoration-color: #0087ff\">MaxPooling2D</span>)      │ (<span style=\"color: #00d7ff; text-decoration-color: #00d7ff\">None</span>, <span style=\"color: #00af00; text-decoration-color: #00af00\">45</span>, <span style=\"color: #00af00; text-decoration-color: #00af00\">45</span>, <span style=\"color: #00af00; text-decoration-color: #00af00\">128</span>)    │             <span style=\"color: #00af00; text-decoration-color: #00af00\">0</span> │\n",
              "├─────────────────────────────────┼────────────────────────┼───────────────┤\n",
              "│ block3_conv1 (<span style=\"color: #0087ff; text-decoration-color: #0087ff\">Conv2D</span>)           │ (<span style=\"color: #00d7ff; text-decoration-color: #00d7ff\">None</span>, <span style=\"color: #00af00; text-decoration-color: #00af00\">45</span>, <span style=\"color: #00af00; text-decoration-color: #00af00\">45</span>, <span style=\"color: #00af00; text-decoration-color: #00af00\">256</span>)    │       <span style=\"color: #00af00; text-decoration-color: #00af00\">295,168</span> │\n",
              "├─────────────────────────────────┼────────────────────────┼───────────────┤\n",
              "│ block3_conv2 (<span style=\"color: #0087ff; text-decoration-color: #0087ff\">Conv2D</span>)           │ (<span style=\"color: #00d7ff; text-decoration-color: #00d7ff\">None</span>, <span style=\"color: #00af00; text-decoration-color: #00af00\">45</span>, <span style=\"color: #00af00; text-decoration-color: #00af00\">45</span>, <span style=\"color: #00af00; text-decoration-color: #00af00\">256</span>)    │       <span style=\"color: #00af00; text-decoration-color: #00af00\">590,080</span> │\n",
              "├─────────────────────────────────┼────────────────────────┼───────────────┤\n",
              "│ block3_conv3 (<span style=\"color: #0087ff; text-decoration-color: #0087ff\">Conv2D</span>)           │ (<span style=\"color: #00d7ff; text-decoration-color: #00d7ff\">None</span>, <span style=\"color: #00af00; text-decoration-color: #00af00\">45</span>, <span style=\"color: #00af00; text-decoration-color: #00af00\">45</span>, <span style=\"color: #00af00; text-decoration-color: #00af00\">256</span>)    │       <span style=\"color: #00af00; text-decoration-color: #00af00\">590,080</span> │\n",
              "├─────────────────────────────────┼────────────────────────┼───────────────┤\n",
              "│ block3_pool (<span style=\"color: #0087ff; text-decoration-color: #0087ff\">MaxPooling2D</span>)      │ (<span style=\"color: #00d7ff; text-decoration-color: #00d7ff\">None</span>, <span style=\"color: #00af00; text-decoration-color: #00af00\">22</span>, <span style=\"color: #00af00; text-decoration-color: #00af00\">22</span>, <span style=\"color: #00af00; text-decoration-color: #00af00\">256</span>)    │             <span style=\"color: #00af00; text-decoration-color: #00af00\">0</span> │\n",
              "├─────────────────────────────────┼────────────────────────┼───────────────┤\n",
              "│ block4_conv1 (<span style=\"color: #0087ff; text-decoration-color: #0087ff\">Conv2D</span>)           │ (<span style=\"color: #00d7ff; text-decoration-color: #00d7ff\">None</span>, <span style=\"color: #00af00; text-decoration-color: #00af00\">22</span>, <span style=\"color: #00af00; text-decoration-color: #00af00\">22</span>, <span style=\"color: #00af00; text-decoration-color: #00af00\">512</span>)    │     <span style=\"color: #00af00; text-decoration-color: #00af00\">1,180,160</span> │\n",
              "├─────────────────────────────────┼────────────────────────┼───────────────┤\n",
              "│ block4_conv2 (<span style=\"color: #0087ff; text-decoration-color: #0087ff\">Conv2D</span>)           │ (<span style=\"color: #00d7ff; text-decoration-color: #00d7ff\">None</span>, <span style=\"color: #00af00; text-decoration-color: #00af00\">22</span>, <span style=\"color: #00af00; text-decoration-color: #00af00\">22</span>, <span style=\"color: #00af00; text-decoration-color: #00af00\">512</span>)    │     <span style=\"color: #00af00; text-decoration-color: #00af00\">2,359,808</span> │\n",
              "├─────────────────────────────────┼────────────────────────┼───────────────┤\n",
              "│ block4_conv3 (<span style=\"color: #0087ff; text-decoration-color: #0087ff\">Conv2D</span>)           │ (<span style=\"color: #00d7ff; text-decoration-color: #00d7ff\">None</span>, <span style=\"color: #00af00; text-decoration-color: #00af00\">22</span>, <span style=\"color: #00af00; text-decoration-color: #00af00\">22</span>, <span style=\"color: #00af00; text-decoration-color: #00af00\">512</span>)    │     <span style=\"color: #00af00; text-decoration-color: #00af00\">2,359,808</span> │\n",
              "├─────────────────────────────────┼────────────────────────┼───────────────┤\n",
              "│ block4_pool (<span style=\"color: #0087ff; text-decoration-color: #0087ff\">MaxPooling2D</span>)      │ (<span style=\"color: #00d7ff; text-decoration-color: #00d7ff\">None</span>, <span style=\"color: #00af00; text-decoration-color: #00af00\">11</span>, <span style=\"color: #00af00; text-decoration-color: #00af00\">11</span>, <span style=\"color: #00af00; text-decoration-color: #00af00\">512</span>)    │             <span style=\"color: #00af00; text-decoration-color: #00af00\">0</span> │\n",
              "├─────────────────────────────────┼────────────────────────┼───────────────┤\n",
              "│ block5_conv1 (<span style=\"color: #0087ff; text-decoration-color: #0087ff\">Conv2D</span>)           │ (<span style=\"color: #00d7ff; text-decoration-color: #00d7ff\">None</span>, <span style=\"color: #00af00; text-decoration-color: #00af00\">11</span>, <span style=\"color: #00af00; text-decoration-color: #00af00\">11</span>, <span style=\"color: #00af00; text-decoration-color: #00af00\">512</span>)    │     <span style=\"color: #00af00; text-decoration-color: #00af00\">2,359,808</span> │\n",
              "├─────────────────────────────────┼────────────────────────┼───────────────┤\n",
              "│ block5_conv2 (<span style=\"color: #0087ff; text-decoration-color: #0087ff\">Conv2D</span>)           │ (<span style=\"color: #00d7ff; text-decoration-color: #00d7ff\">None</span>, <span style=\"color: #00af00; text-decoration-color: #00af00\">11</span>, <span style=\"color: #00af00; text-decoration-color: #00af00\">11</span>, <span style=\"color: #00af00; text-decoration-color: #00af00\">512</span>)    │     <span style=\"color: #00af00; text-decoration-color: #00af00\">2,359,808</span> │\n",
              "├─────────────────────────────────┼────────────────────────┼───────────────┤\n",
              "│ block5_conv3 (<span style=\"color: #0087ff; text-decoration-color: #0087ff\">Conv2D</span>)           │ (<span style=\"color: #00d7ff; text-decoration-color: #00d7ff\">None</span>, <span style=\"color: #00af00; text-decoration-color: #00af00\">11</span>, <span style=\"color: #00af00; text-decoration-color: #00af00\">11</span>, <span style=\"color: #00af00; text-decoration-color: #00af00\">512</span>)    │     <span style=\"color: #00af00; text-decoration-color: #00af00\">2,359,808</span> │\n",
              "├─────────────────────────────────┼────────────────────────┼───────────────┤\n",
              "│ block5_pool (<span style=\"color: #0087ff; text-decoration-color: #0087ff\">MaxPooling2D</span>)      │ (<span style=\"color: #00d7ff; text-decoration-color: #00d7ff\">None</span>, <span style=\"color: #00af00; text-decoration-color: #00af00\">5</span>, <span style=\"color: #00af00; text-decoration-color: #00af00\">5</span>, <span style=\"color: #00af00; text-decoration-color: #00af00\">512</span>)      │             <span style=\"color: #00af00; text-decoration-color: #00af00\">0</span> │\n",
              "└─────────────────────────────────┴────────────────────────┴───────────────┘\n",
              "</pre>\n"
            ]
          },
          "metadata": {}
        },
        {
          "output_type": "display_data",
          "data": {
            "text/plain": [
              "\u001b[1m Total params: \u001b[0m\u001b[38;5;34m14,714,688\u001b[0m (56.13 MB)\n"
            ],
            "text/html": [
              "<pre style=\"white-space:pre;overflow-x:auto;line-height:normal;font-family:Menlo,'DejaVu Sans Mono',consolas,'Courier New',monospace\"><span style=\"font-weight: bold\"> Total params: </span><span style=\"color: #00af00; text-decoration-color: #00af00\">14,714,688</span> (56.13 MB)\n",
              "</pre>\n"
            ]
          },
          "metadata": {}
        },
        {
          "output_type": "display_data",
          "data": {
            "text/plain": [
              "\u001b[1m Trainable params: \u001b[0m\u001b[38;5;34m14,714,688\u001b[0m (56.13 MB)\n"
            ],
            "text/html": [
              "<pre style=\"white-space:pre;overflow-x:auto;line-height:normal;font-family:Menlo,'DejaVu Sans Mono',consolas,'Courier New',monospace\"><span style=\"font-weight: bold\"> Trainable params: </span><span style=\"color: #00af00; text-decoration-color: #00af00\">14,714,688</span> (56.13 MB)\n",
              "</pre>\n"
            ]
          },
          "metadata": {}
        },
        {
          "output_type": "display_data",
          "data": {
            "text/plain": [
              "\u001b[1m Non-trainable params: \u001b[0m\u001b[38;5;34m0\u001b[0m (0.00 B)\n"
            ],
            "text/html": [
              "<pre style=\"white-space:pre;overflow-x:auto;line-height:normal;font-family:Menlo,'DejaVu Sans Mono',consolas,'Courier New',monospace\"><span style=\"font-weight: bold\"> Non-trainable params: </span><span style=\"color: #00af00; text-decoration-color: #00af00\">0</span> (0.00 B)\n",
              "</pre>\n"
            ]
          },
          "metadata": {}
        }
      ],
      "source": [
        "conv_base.summary()"
      ]
    },
    {
      "cell_type": "markdown",
      "id": "a2ff52e8",
      "metadata": {
        "id": "a2ff52e8"
      },
      "source": [
        "**Non-trainable params:**\n",
        "\n",
        "*This line of code, conv_base.trainable = False, is used in the context of transfer learning from pre-trained models in Keras (and TensorFlow).*"
      ]
    },
    {
      "cell_type": "code",
      "execution_count": 109,
      "id": "677ce6cc",
      "metadata": {
        "id": "677ce6cc"
      },
      "outputs": [],
      "source": [
        "conv_base.trainable = False"
      ]
    },
    {
      "cell_type": "markdown",
      "id": "ec2d77b4",
      "metadata": {
        "id": "ec2d77b4"
      },
      "source": [
        "**Inputs**"
      ]
    },
    {
      "cell_type": "code",
      "execution_count": 110,
      "id": "4207e83c",
      "metadata": {
        "id": "4207e83c"
      },
      "outputs": [],
      "source": [
        "inputs = keras.Input(shape=(180, 180, 3))"
      ]
    },
    {
      "cell_type": "markdown",
      "id": "574de218",
      "metadata": {
        "id": "574de218"
      },
      "source": [
        "**Data Augmentation**"
      ]
    },
    {
      "cell_type": "code",
      "execution_count": 111,
      "id": "526e42f4",
      "metadata": {
        "id": "526e42f4"
      },
      "outputs": [],
      "source": [
        "data_augmentation = keras.Sequential(\n",
        "    [\n",
        "     layers.RandomFlip(\"horizontal\"),\n",
        "     layers.RandomRotation(0.1),\n",
        "     layers.RandomZoom(0.2),\n",
        "    ])\n",
        "\n",
        "x = data_augmentation(inputs)"
      ]
    },
    {
      "cell_type": "markdown",
      "id": "99f22b62",
      "metadata": {
        "id": "99f22b62"
      },
      "source": [
        "**Preprocessing Input:**\n",
        "\n",
        "*Channel Order*\n",
        "\n",
        "*Pixel Value Normalization*"
      ]
    },
    {
      "cell_type": "code",
      "execution_count": 112,
      "id": "3ec792fa",
      "metadata": {
        "id": "3ec792fa"
      },
      "outputs": [],
      "source": [
        "x = keras.applications.vgg16.preprocess_input(x)"
      ]
    },
    {
      "cell_type": "markdown",
      "id": "7c7d55b6",
      "metadata": {
        "id": "7c7d55b6"
      },
      "source": [
        "**Conv Block 1**"
      ]
    },
    {
      "cell_type": "code",
      "execution_count": 113,
      "id": "8b92b23d",
      "metadata": {
        "id": "8b92b23d"
      },
      "outputs": [],
      "source": [
        "x = conv_base(x)"
      ]
    },
    {
      "cell_type": "markdown",
      "id": "407213ef",
      "metadata": {
        "id": "407213ef"
      },
      "source": [
        "**Flatten Layer**"
      ]
    },
    {
      "cell_type": "code",
      "execution_count": 114,
      "id": "f0ef78f4",
      "metadata": {
        "id": "f0ef78f4"
      },
      "outputs": [],
      "source": [
        "x = layers.Flatten()(x)"
      ]
    },
    {
      "cell_type": "markdown",
      "id": "6bd3c42b",
      "metadata": {
        "id": "6bd3c42b"
      },
      "source": [
        "**Dense Layer**"
      ]
    },
    {
      "cell_type": "code",
      "execution_count": 115,
      "id": "be03773e",
      "metadata": {
        "id": "be03773e"
      },
      "outputs": [],
      "source": [
        "x = layers.Dense(256, activation=\"relu\")(x)"
      ]
    },
    {
      "cell_type": "markdown",
      "id": "c3dedd72",
      "metadata": {
        "id": "c3dedd72"
      },
      "source": [
        "**Dropout Layer**"
      ]
    },
    {
      "cell_type": "code",
      "execution_count": 116,
      "id": "6f2da08c",
      "metadata": {
        "id": "6f2da08c"
      },
      "outputs": [],
      "source": [
        "x = layers.Dropout(0.5)(x)"
      ]
    },
    {
      "cell_type": "markdown",
      "id": "944ff9e8",
      "metadata": {
        "id": "944ff9e8"
      },
      "source": [
        "**Output Layers**"
      ]
    },
    {
      "cell_type": "code",
      "execution_count": 117,
      "id": "13268408",
      "metadata": {
        "id": "13268408"
      },
      "outputs": [],
      "source": [
        "outputs = layers.Dense(1, activation=\"sigmoid\")(x)"
      ]
    },
    {
      "cell_type": "markdown",
      "id": "6c6fd9b4",
      "metadata": {
        "id": "6c6fd9b4"
      },
      "source": [
        "**Defining Model Architecture**"
      ]
    },
    {
      "cell_type": "code",
      "execution_count": 118,
      "id": "b865cc60",
      "metadata": {
        "id": "b865cc60"
      },
      "outputs": [],
      "source": [
        "model3 = keras.Model(inputs, outputs)"
      ]
    },
    {
      "cell_type": "markdown",
      "id": "9405a7cc",
      "metadata": {
        "id": "9405a7cc"
      },
      "source": [
        "**Compile**"
      ]
    },
    {
      "cell_type": "code",
      "execution_count": 119,
      "id": "0e59d420",
      "metadata": {
        "id": "0e59d420"
      },
      "outputs": [],
      "source": [
        "model3.compile(\n",
        "    loss=\"binary_crossentropy\",\n",
        "    optimizer=AdamW(learning_rate=1e-4, weight_decay=1e-3),\n",
        "    metrics=[\"accuracy\"]\n",
        ")"
      ]
    },
    {
      "cell_type": "markdown",
      "id": "c7703445",
      "metadata": {
        "id": "c7703445"
      },
      "source": [
        "**Callbacks**"
      ]
    },
    {
      "cell_type": "code",
      "execution_count": 120,
      "id": "f577b923",
      "metadata": {
        "id": "f577b923"
      },
      "outputs": [],
      "source": [
        "callbacks = [\n",
        "    keras.callbacks.ModelCheckpoint(\n",
        "    filepath=\"feature_extraction_with_data_augmentation.keras\",\n",
        "    save_best_only=True,\n",
        "    monitor=\"val_loss\")\n",
        " ]"
      ]
    },
    {
      "cell_type": "markdown",
      "id": "ab86675b",
      "metadata": {
        "id": "ab86675b"
      },
      "source": [
        "**VGG-16 Model**\n",
        "\n",
        "*(*Training time: approx. 30 minutes using NVIDIA Tesla T4 GPU - provided by Google)**"
      ]
    },
    {
      "cell_type": "markdown",
      "id": "6c5bc833",
      "metadata": {
        "id": "6c5bc833"
      },
      "source": [
        "*The training set's purpose is to allow the machine learning algorithm to identify patterns, relationships, and trends within the data.*\n",
        "\n",
        "*By analyzing the training data, the model adjusts its internal parameters to make accurate predictions or classifications.*\n",
        "\n",
        "*\"epoch\" refers to one complete pass of the entire training dataset through the learning algorithm*\n",
        "\n",
        "*\"Validation Dataset\" is used to evaluate the model during training and to tune hyperparameters.*"
      ]
    },
    {
      "cell_type": "code",
      "execution_count": 121,
      "id": "580ce585",
      "metadata": {
        "id": "580ce585",
        "colab": {
          "base_uri": "https://localhost:8080/"
        },
        "outputId": "83c5e5f5-ae4a-4a09-c9ce-469055cdc98a"
      },
      "outputs": [
        {
          "output_type": "stream",
          "name": "stdout",
          "text": [
            "Epoch 1/30\n",
            "\u001b[1m235/235\u001b[0m \u001b[32m━━━━━━━━━━━━━━━━━━━━\u001b[0m\u001b[37m\u001b[0m \u001b[1m61s\u001b[0m 252ms/step - accuracy: 0.8779 - loss: 1.4907 - val_accuracy: 0.9736 - val_loss: 0.1909\n",
            "Epoch 2/30\n",
            "\u001b[1m235/235\u001b[0m \u001b[32m━━━━━━━━━━━━━━━━━━━━\u001b[0m\u001b[37m\u001b[0m \u001b[1m81s\u001b[0m 248ms/step - accuracy: 0.9495 - loss: 0.2698 - val_accuracy: 0.9758 - val_loss: 0.1167\n",
            "Epoch 3/30\n",
            "\u001b[1m235/235\u001b[0m \u001b[32m━━━━━━━━━━━━━━━━━━━━\u001b[0m\u001b[37m\u001b[0m \u001b[1m57s\u001b[0m 243ms/step - accuracy: 0.9560 - loss: 0.1435 - val_accuracy: 0.9752 - val_loss: 0.0922\n",
            "Epoch 4/30\n",
            "\u001b[1m235/235\u001b[0m \u001b[32m━━━━━━━━━━━━━━━━━━━━\u001b[0m\u001b[37m\u001b[0m \u001b[1m58s\u001b[0m 245ms/step - accuracy: 0.9639 - loss: 0.1072 - val_accuracy: 0.9778 - val_loss: 0.0804\n",
            "Epoch 5/30\n",
            "\u001b[1m235/235\u001b[0m \u001b[32m━━━━━━━━━━━━━━━━━━━━\u001b[0m\u001b[37m\u001b[0m \u001b[1m63s\u001b[0m 269ms/step - accuracy: 0.9646 - loss: 0.0972 - val_accuracy: 0.9764 - val_loss: 0.0806\n",
            "Epoch 6/30\n",
            "\u001b[1m235/235\u001b[0m \u001b[32m━━━━━━━━━━━━━━━━━━━━\u001b[0m\u001b[37m\u001b[0m \u001b[1m58s\u001b[0m 246ms/step - accuracy: 0.9669 - loss: 0.0857 - val_accuracy: 0.9782 - val_loss: 0.0716\n",
            "Epoch 7/30\n",
            "\u001b[1m235/235\u001b[0m \u001b[32m━━━━━━━━━━━━━━━━━━━━\u001b[0m\u001b[37m\u001b[0m \u001b[1m64s\u001b[0m 271ms/step - accuracy: 0.9730 - loss: 0.0756 - val_accuracy: 0.9780 - val_loss: 0.0716\n",
            "Epoch 8/30\n",
            "\u001b[1m235/235\u001b[0m \u001b[32m━━━━━━━━━━━━━━━━━━━━\u001b[0m\u001b[37m\u001b[0m \u001b[1m76s\u001b[0m 246ms/step - accuracy: 0.9747 - loss: 0.0646 - val_accuracy: 0.9792 - val_loss: 0.0685\n",
            "Epoch 9/30\n",
            "\u001b[1m235/235\u001b[0m \u001b[32m━━━━━━━━━━━━━━━━━━━━\u001b[0m\u001b[37m\u001b[0m \u001b[1m57s\u001b[0m 242ms/step - accuracy: 0.9766 - loss: 0.0632 - val_accuracy: 0.9766 - val_loss: 0.0702\n",
            "Epoch 10/30\n",
            "\u001b[1m235/235\u001b[0m \u001b[32m━━━━━━━━━━━━━━━━━━━━\u001b[0m\u001b[37m\u001b[0m \u001b[1m57s\u001b[0m 243ms/step - accuracy: 0.9785 - loss: 0.0595 - val_accuracy: 0.9816 - val_loss: 0.0661\n",
            "Epoch 11/30\n",
            "\u001b[1m235/235\u001b[0m \u001b[32m━━━━━━━━━━━━━━━━━━━━\u001b[0m\u001b[37m\u001b[0m \u001b[1m57s\u001b[0m 243ms/step - accuracy: 0.9794 - loss: 0.0592 - val_accuracy: 0.9826 - val_loss: 0.0638\n",
            "Epoch 12/30\n",
            "\u001b[1m235/235\u001b[0m \u001b[32m━━━━━━━━━━━━━━━━━━━━\u001b[0m\u001b[37m\u001b[0m \u001b[1m57s\u001b[0m 242ms/step - accuracy: 0.9790 - loss: 0.0531 - val_accuracy: 0.9820 - val_loss: 0.0677\n",
            "Epoch 13/30\n",
            "\u001b[1m235/235\u001b[0m \u001b[32m━━━━━━━━━━━━━━━━━━━━\u001b[0m\u001b[37m\u001b[0m \u001b[1m57s\u001b[0m 242ms/step - accuracy: 0.9815 - loss: 0.0462 - val_accuracy: 0.9804 - val_loss: 0.0656\n",
            "Epoch 14/30\n",
            "\u001b[1m235/235\u001b[0m \u001b[32m━━━━━━━━━━━━━━━━━━━━\u001b[0m\u001b[37m\u001b[0m \u001b[1m57s\u001b[0m 242ms/step - accuracy: 0.9834 - loss: 0.0473 - val_accuracy: 0.9816 - val_loss: 0.0692\n",
            "Epoch 15/30\n",
            "\u001b[1m235/235\u001b[0m \u001b[32m━━━━━━━━━━━━━━━━━━━━\u001b[0m\u001b[37m\u001b[0m \u001b[1m57s\u001b[0m 242ms/step - accuracy: 0.9812 - loss: 0.0522 - val_accuracy: 0.9828 - val_loss: 0.0648\n",
            "Epoch 16/30\n",
            "\u001b[1m235/235\u001b[0m \u001b[32m━━━━━━━━━━━━━━━━━━━━\u001b[0m\u001b[37m\u001b[0m \u001b[1m64s\u001b[0m 271ms/step - accuracy: 0.9839 - loss: 0.0412 - val_accuracy: 0.9822 - val_loss: 0.0635\n",
            "Epoch 17/30\n",
            "\u001b[1m235/235\u001b[0m \u001b[32m━━━━━━━━━━━━━━━━━━━━\u001b[0m\u001b[37m\u001b[0m \u001b[1m57s\u001b[0m 243ms/step - accuracy: 0.9859 - loss: 0.0414 - val_accuracy: 0.9822 - val_loss: 0.0707\n",
            "Epoch 18/30\n",
            "\u001b[1m235/235\u001b[0m \u001b[32m━━━━━━━━━━━━━━━━━━━━\u001b[0m\u001b[37m\u001b[0m \u001b[1m57s\u001b[0m 242ms/step - accuracy: 0.9839 - loss: 0.0417 - val_accuracy: 0.9834 - val_loss: 0.0672\n",
            "Epoch 19/30\n",
            "\u001b[1m235/235\u001b[0m \u001b[32m━━━━━━━━━━━━━━━━━━━━\u001b[0m\u001b[37m\u001b[0m \u001b[1m57s\u001b[0m 242ms/step - accuracy: 0.9871 - loss: 0.0356 - val_accuracy: 0.9832 - val_loss: 0.0664\n",
            "Epoch 20/30\n",
            "\u001b[1m235/235\u001b[0m \u001b[32m━━━━━━━━━━━━━━━━━━━━\u001b[0m\u001b[37m\u001b[0m \u001b[1m63s\u001b[0m 269ms/step - accuracy: 0.9863 - loss: 0.0385 - val_accuracy: 0.9834 - val_loss: 0.0669\n",
            "Epoch 21/30\n",
            "\u001b[1m235/235\u001b[0m \u001b[32m━━━━━━━━━━━━━━━━━━━━\u001b[0m\u001b[37m\u001b[0m \u001b[1m57s\u001b[0m 243ms/step - accuracy: 0.9867 - loss: 0.0389 - val_accuracy: 0.9826 - val_loss: 0.0645\n",
            "Epoch 22/30\n",
            "\u001b[1m235/235\u001b[0m \u001b[32m━━━━━━━━━━━━━━━━━━━━\u001b[0m\u001b[37m\u001b[0m \u001b[1m57s\u001b[0m 242ms/step - accuracy: 0.9854 - loss: 0.0410 - val_accuracy: 0.9828 - val_loss: 0.0675\n",
            "Epoch 23/30\n",
            "\u001b[1m235/235\u001b[0m \u001b[32m━━━━━━━━━━━━━━━━━━━━\u001b[0m\u001b[37m\u001b[0m \u001b[1m57s\u001b[0m 241ms/step - accuracy: 0.9869 - loss: 0.0362 - val_accuracy: 0.9828 - val_loss: 0.0700\n",
            "Epoch 24/30\n",
            "\u001b[1m235/235\u001b[0m \u001b[32m━━━━━━━━━━━━━━━━━━━━\u001b[0m\u001b[37m\u001b[0m \u001b[1m89s\u001b[0m 273ms/step - accuracy: 0.9888 - loss: 0.0300 - val_accuracy: 0.9824 - val_loss: 0.0764\n",
            "Epoch 25/30\n",
            "\u001b[1m235/235\u001b[0m \u001b[32m━━━━━━━━━━━━━━━━━━━━\u001b[0m\u001b[37m\u001b[0m \u001b[1m57s\u001b[0m 241ms/step - accuracy: 0.9890 - loss: 0.0345 - val_accuracy: 0.9836 - val_loss: 0.0723\n",
            "Epoch 26/30\n",
            "\u001b[1m235/235\u001b[0m \u001b[32m━━━━━━━━━━━━━━━━━━━━\u001b[0m\u001b[37m\u001b[0m \u001b[1m57s\u001b[0m 242ms/step - accuracy: 0.9876 - loss: 0.0346 - val_accuracy: 0.9822 - val_loss: 0.0733\n",
            "Epoch 27/30\n",
            "\u001b[1m235/235\u001b[0m \u001b[32m━━━━━━━━━━━━━━━━━━━━\u001b[0m\u001b[37m\u001b[0m \u001b[1m57s\u001b[0m 242ms/step - accuracy: 0.9858 - loss: 0.0357 - val_accuracy: 0.9828 - val_loss: 0.0647\n",
            "Epoch 28/30\n",
            "\u001b[1m235/235\u001b[0m \u001b[32m━━━━━━━━━━━━━━━━━━━━\u001b[0m\u001b[37m\u001b[0m \u001b[1m57s\u001b[0m 242ms/step - accuracy: 0.9901 - loss: 0.0285 - val_accuracy: 0.9834 - val_loss: 0.0779\n",
            "Epoch 29/30\n",
            "\u001b[1m235/235\u001b[0m \u001b[32m━━━━━━━━━━━━━━━━━━━━\u001b[0m\u001b[37m\u001b[0m \u001b[1m57s\u001b[0m 242ms/step - accuracy: 0.9880 - loss: 0.0308 - val_accuracy: 0.9836 - val_loss: 0.0783\n",
            "Epoch 30/30\n",
            "\u001b[1m235/235\u001b[0m \u001b[32m━━━━━━━━━━━━━━━━━━━━\u001b[0m\u001b[37m\u001b[0m \u001b[1m83s\u001b[0m 246ms/step - accuracy: 0.9877 - loss: 0.0346 - val_accuracy: 0.9830 - val_loss: 0.0713\n",
            "✅ VGG-16 model saved successfully as feature_extraction_with_data_augmentation.keras\n"
          ]
        }
      ],
      "source": [
        "history = model3.fit(\n",
        "    train_dataset,\n",
        "    epochs=30,\n",
        "    validation_data=validation_dataset,\n",
        "    callbacks=callbacks)\n",
        "\n",
        "model.save(\"/content/feature_extraction_with_data_augmentation.keras\")\n",
        "print(\"✅ VGG-16 model saved successfully as feature_extraction_with_data_augmentation.keras\")"
      ]
    },
    {
      "cell_type": "markdown",
      "id": "e6a453c5",
      "metadata": {
        "id": "e6a453c5"
      },
      "source": [
        "*************************************************************************************************************************************************************************************************************************************"
      ]
    },
    {
      "cell_type": "markdown",
      "id": "5c3d2733",
      "metadata": {
        "id": "5c3d2733"
      },
      "source": [
        "**VGG-16 Accuracy and Validation Loss (Training Set)**"
      ]
    },
    {
      "cell_type": "code",
      "execution_count": null,
      "id": "WTss8toPlTVk",
      "metadata": {
        "id": "WTss8toPlTVk"
      },
      "outputs": [],
      "source": [
        "epochs = list(range(1, len(history.history['loss']) + 1))\n",
        "accuracy = history.history['accuracy']\n",
        "val_accuracy = history.history['val_accuracy']\n",
        "\n",
        "epochs_np = np.array(epochs)\n",
        "accuracy_np = np.array(accuracy) * 100\n",
        "val_accuracy_np = np.array(val_accuracy) * 100\n",
        "\n",
        "if len(epochs_np) >= 4:\n",
        "    epochs_smooth = np.linspace(epochs_np.min(), epochs_np.max(), 500)\n",
        "    spl_acc = make_interp_spline(epochs_np, accuracy_np, k=3)\n",
        "    spl_val_acc = make_interp_spline(epochs_np, val_accuracy_np, k=3)\n",
        "    accuracy_smooth = spl_acc(epochs_smooth)\n",
        "    val_accuracy_smooth = spl_val_acc(epochs_smooth)\n",
        "else:\n",
        "    epochs_smooth = epochs_np\n",
        "    accuracy_smooth = accuracy_np\n",
        "    val_accuracy_smooth = val_accuracy_np\n",
        "\n",
        "plt.figure(figsize=(8, 5))\n",
        "plt.plot(epochs_np, accuracy_np, \"bo\", label=\"Training accuracy\")\n",
        "plt.plot(epochs_smooth, accuracy_smooth, \"b-\", label=\"Training accuracy (smooth)\")\n",
        "plt.plot(epochs_np, val_accuracy_np, \"ro\", label=\"Validation accuracy\")\n",
        "plt.plot(epochs_smooth, val_accuracy_smooth, \"r-\", label=\"Validation accuracy (smooth)\")\n",
        "\n",
        "plt.title(\"VGG16 - Training and Validation Accuracy\")\n",
        "plt.xlabel(\"Epochs\")\n",
        "plt.ylabel(\"Accuracy (%)\")\n",
        "plt.legend()\n",
        "plt.grid(True, linestyle=\"--\", alpha=0.6)\n",
        "plt.tight_layout()\n",
        "plt.show()"
      ]
    },
    {
      "cell_type": "markdown",
      "id": "WDjugmj1DSMv",
      "metadata": {
        "id": "WDjugmj1DSMv"
      },
      "source": [
        "*************************************************************************************************************************************************************************************************************************************"
      ]
    },
    {
      "cell_type": "markdown",
      "id": "d94a2ebb",
      "metadata": {
        "id": "d94a2ebb"
      },
      "source": [
        "**Test Dataset Evaluation**"
      ]
    },
    {
      "cell_type": "code",
      "source": [
        "from tensorflow.keras.models import load_model\n",
        "import os\n",
        "\n",
        "model_path = \"/content/feature_extraction_with_data_augmentation.keras\"\n",
        "\n",
        "print(\"✅ test_dataset:\", test_dataset)\n",
        "print(\"✅ Classes:\", test_dataset.class_names)\n",
        "print(\"📁 Model exists:\", os.path.exists(model_path))\n",
        "\n",
        "# Try loading model\n",
        "try:\n",
        "    model = load_model(model_path)\n",
        "    print(\"✅ Model loaded successfully\")\n",
        "except Exception as e:\n",
        "    print(\"❌ Model failed to load:\", e)\n",
        "\n",
        "# Try evaluating model\n",
        "try:\n",
        "    print(\"📊 Starting test evaluation...\")\n",
        "    test_loss, test_acc = model.evaluate(test_dataset, verbose=1)\n",
        "    print(\"✅ Evaluation complete!\")\n",
        "    print(f\"📉 Test Loss: {test_loss:.4f}\")\n",
        "    print(f\"📈 Test Accuracy: {test_acc * 100:.2f}%\")\n",
        "except Exception as e:\n",
        "    print(\"❌ Evaluation failed:\", e)\n"
      ],
      "metadata": {
        "id": "MJPBz-b3TW7x",
        "outputId": "d80527f3-f6d1-4d2e-c4b6-f35a52626d7e",
        "colab": {
          "base_uri": "https://localhost:8080/"
        }
      },
      "id": "MJPBz-b3TW7x",
      "execution_count": 131,
      "outputs": [
        {
          "output_type": "stream",
          "name": "stdout",
          "text": [
            "✅ test_dataset: <_PrefetchDataset element_spec=(TensorSpec(shape=(None, 180, 180, 3), dtype=tf.float32, name=None), TensorSpec(shape=(None,), dtype=tf.int32, name=None))>\n",
            "✅ Classes: ['cats', 'dogs']\n",
            "📁 Model exists: True\n",
            "✅ Model loaded successfully\n",
            "📊 Starting test evaluation...\n",
            "\u001b[1m79/79\u001b[0m \u001b[32m━━━━━━━━━━━━━━━━━━━━\u001b[0m\u001b[37m\u001b[0m \u001b[1m5s\u001b[0m 56ms/step - accuracy: 0.9007 - loss: 0.2419\n",
            "✅ Evaluation complete!\n",
            "📉 Test Loss: 0.1890\n",
            "📈 Test Accuracy: 92.52%\n"
          ]
        }
      ]
    },
    {
      "cell_type": "markdown",
      "id": "dc835c92",
      "metadata": {
        "id": "dc835c92"
      },
      "source": [
        "*************************************************************************************************************************************************************************************************************************************"
      ]
    },
    {
      "cell_type": "markdown",
      "id": "hhBw7R2-HcoG",
      "metadata": {
        "id": "hhBw7R2-HcoG"
      },
      "source": [
        " # IX. Evaluation/Conclusions: ROC/AUC & F1 SCORES, Classification Report, etc."
      ]
    },
    {
      "cell_type": "markdown",
      "id": "9a4c8843",
      "metadata": {
        "id": "9a4c8843"
      },
      "source": [
        "*************************************************************************************************************************************************************************************************************************************"
      ]
    },
    {
      "cell_type": "code",
      "source": [
        "import numpy as np\n",
        "import seaborn as sns\n",
        "import matplotlib.pyplot as plt\n",
        "from sklearn.metrics import confusion_matrix, classification_report, precision_recall_fscore_support\n",
        "\n",
        "y_true, y_pred = [], []\n",
        "for images, labels in test_dataset:\n",
        "    preds = model.predict(images, verbose=0)\n",
        "    y_true.extend(labels.numpy())\n",
        "    y_pred.extend((preds > 0.5).astype(int).flatten())\n",
        "\n",
        "y_true = np.array(y_true)\n",
        "y_pred = np.array(y_pred)\n",
        "class_names = [\"Cat\", \"Dog\"]\n",
        "\n",
        "cm = confusion_matrix(y_true, y_pred)\n",
        "plt.figure(figsize=(8, 6))\n",
        "sns.heatmap(\n",
        "    cm,\n",
        "    annot=True,\n",
        "    fmt='d',\n",
        "    cmap='Blues',\n",
        "    cbar=False,\n",
        "    xticklabels=[f\"Predicted: {c}\" for c in class_names],\n",
        "    yticklabels=[f\"Actual: {c}\" for c in class_names]\n",
        ")\n",
        "\n",
        "plt.title(\"Confusion Matrix - Dogs vs Cats (Counts)\", fontsize=14)\n",
        "plt.xlabel(\"Predicted Label\", fontsize=12)\n",
        "plt.ylabel(\"True Label\", fontsize=12)\n",
        "plt.tight_layout()\n",
        "plt.show()\n",
        "\n",
        "cm_norm = cm.astype(\"float\") / cm.sum(axis=1)[:, np.newaxis]\n",
        "cm_percent = cm_norm * 100\n",
        "plt.figure(figsize=(8, 6))\n",
        "sns.heatmap(\n",
        "    cm_percent,\n",
        "    annot=True,\n",
        "    fmt=\".1f\",\n",
        "    cmap='Purples',\n",
        "    cbar=False,\n",
        "    xticklabels=[f\"Predicted: {c}\" for c in class_names],\n",
        "    yticklabels=[f\"Actual: {c}\" for c in class_names]\n",
        ")\n",
        "plt.title(\"Confusion Matrix - Dogs vs Cats (Percentages)\", fontsize=14)\n",
        "plt.xlabel(\"Predicted Label\", fontsize=12)\n",
        "plt.ylabel(\"True Label\", fontsize=12)\n",
        "\n",
        "for text in plt.gca().texts:\n",
        "    text.set_text(f\"{float(text.get_text()):.1f}%\")\n",
        "\n",
        "plt.tight_layout()\n",
        "plt.show()\n",
        "\n",
        "print(\"\\n📊 Classification Report:\")\n",
        "print(classification_report(y_true, y_pred, target_names=class_names, digits=4))\n",
        "\n",
        "precision, recall, f1, _ = precision_recall_fscore_support(y_true, y_pred, labels=[0, 1])\n",
        "\n",
        "metrics_df = {\n",
        "    \"Class\": class_names,\n",
        "    \"Precision\": precision,\n",
        "    \"Recall\": recall,\n",
        "    \"F1-score\": f1\n",
        "}\n",
        "\n",
        "x = np.arange(len(class_names))\n",
        "width = 0.25\n",
        "\n",
        "plt.figure(figsize=(8, 6))\n",
        "bars_precision = plt.bar(x - width, precision, width, label=\"Precision\")\n",
        "bars_recall = plt.bar(x, recall, width, label=\"Recall\")\n",
        "bars_f1 = plt.bar(x + width, f1, width, label=\"F1-score\")\n",
        "\n",
        "plt.xticks(x, class_names, fontsize=12)\n",
        "plt.ylim(0, 1.1)\n",
        "plt.ylabel(\"Score\", fontsize=12)\n",
        "plt.title(\"Precision, Recall, and F1-score per Class\", fontsize=14)\n",
        "plt.legend()\n",
        "plt.grid(axis='y', linestyle='--', alpha=0.6)\n",
        "\n",
        "for bars in [bars_precision, bars_recall, bars_f1]:\n",
        "    for bar in bars:\n",
        "        height = bar.get_height()\n",
        "        plt.text(\n",
        "            bar.get_x() + bar.get_width() / 2,\n",
        "            height + 0.02,\n",
        "            f\"{height * 100:.1f}%\",\n",
        "            ha='center',\n",
        "            va='bottom',\n",
        "            fontsize=10,\n",
        "            fontweight='bold'\n",
        "        )\n",
        "\n",
        "plt.tight_layout()\n",
        "plt.show()\n",
        "\n",
        "print(\"\\n📊 Per-Class Metrics:\")\n",
        "for cls, p, r, f in zip(class_names, precision, recall, f1):\n",
        "    print(f\"{cls:<5} | Precision: {p:.4f} | Recall: {r:.4f} | F1-score: {f:.4f}\")"
      ],
      "metadata": {
        "id": "wBCXUzBHXo88",
        "outputId": "14d69c25-5e4b-4d19-bd91-394260168539",
        "colab": {
          "base_uri": "https://localhost:8080/",
          "height": 1000
        }
      },
      "id": "wBCXUzBHXo88",
      "execution_count": 134,
      "outputs": [
        {
          "output_type": "display_data",
          "data": {
            "text/plain": [
              "<Figure size 800x600 with 1 Axes>"
            ],
            "image/png": "[encoded data removed]"
          },
          "metadata": {}
        },
        {
          "output_type": "display_data",
          "data": {
            "text/plain": [
              "<Figure size 800x600 with 1 Axes>"
            ],
            "image/png": "[encoded data removed]"
          },
          "metadata": {}
        },
        {
          "output_type": "stream",
          "name": "stdout",
          "text": [
            "\n",
            "📊 Classification Report:\n",
            "              precision    recall  f1-score   support\n",
            "\n",
            "         Cat     0.9566    0.8908    0.9225      2500\n",
            "         Dog     0.8978    0.9596    0.9277      2500\n",
            "\n",
            "    accuracy                         0.9252      5000\n",
            "   macro avg     0.9272    0.9252    0.9251      5000\n",
            "weighted avg     0.9272    0.9252    0.9251      5000\n",
            "\n"
          ]
        },
        {
          "output_type": "display_data",
          "data": {
            "text/plain": [
              "<Figure size 800x600 with 1 Axes>"
            ],
            "image/png": "[encoded data removed]"
          },
          "metadata": {}
        },
        {
          "output_type": "stream",
          "name": "stdout",
          "text": [
            "\n",
            "📊 Per-Class Metrics:\n",
            "Cat   | Precision: 0.9566 | Recall: 0.8908 | F1-score: 0.9225\n",
            "Dog   | Precision: 0.8978 | Recall: 0.9596 | F1-score: 0.9277\n"
          ]
        }
      ]
    },
    {
      "cell_type": "markdown",
      "id": "REq5pRftJA0W",
      "metadata": {
        "id": "REq5pRftJA0W"
      },
      "source": [
        "*************************************************************************************************************************************************************************************************************************************"
      ]
    },
    {
      "cell_type": "markdown",
      "id": "4tRBVNitDUUP",
      "metadata": {
        "id": "4tRBVNitDUUP"
      },
      "source": [
        "### ROC Curve"
      ]
    },
    {
      "cell_type": "code",
      "execution_count": 123,
      "id": "XV4zErDLC8CQ",
      "metadata": {
        "id": "XV4zErDLC8CQ",
        "colab": {
          "base_uri": "https://localhost:8080/",
          "height": 872
        },
        "outputId": "25664e5e-841e-4a25-e6eb-bd1d1946195b"
      },
      "outputs": [
        {
          "output_type": "display_data",
          "data": {
            "text/plain": [
              "<Figure size 1000x1000 with 1 Axes>"
            ],
            "image/png": "[encoded data removed]"
          },
          "metadata": {}
        }
      ],
      "source": [
        "plt.figure(figsize=(10,10))\n",
        "plt.plot(fpr, tpr, color='blue', lw=2, label=f'ROC curve (AUC = {roc_auc:.3f})')\n",
        "plt.plot([0, 1], [0, 1], color='gray', lw=2, linestyle='--', label='Random Guess')\n",
        "plt.xlabel(\"False Positive Rate (FPR)\")\n",
        "plt.ylabel(\"True Positive Rate (TPR)\")\n",
        "plt.title(\"Receiver Operating Characteristic (ROC) Curve\")\n",
        "plt.legend(loc=\"lower right\")\n",
        "plt.grid(True, linestyle='--', alpha=0.6)\n",
        "plt.show()"
      ]
    },
    {
      "cell_type": "markdown",
      "id": "J1KUtABoDb5k",
      "metadata": {
        "id": "J1KUtABoDb5k"
      },
      "source": [
        "### Precision-Recall Curve"
      ]
    },
    {
      "cell_type": "code",
      "execution_count": 124,
      "id": "jP--9U0zDBbI",
      "metadata": {
        "id": "jP--9U0zDBbI",
        "colab": {
          "base_uri": "https://localhost:8080/",
          "height": 872
        },
        "outputId": "0bcbf216-7f2d-4613-bdae-416ec102a211"
      },
      "outputs": [
        {
          "output_type": "display_data",
          "data": {
            "text/plain": [
              "<Figure size 1000x1000 with 1 Axes>"
            ],
            "image/png": "[encoded data removed]"
          },
          "metadata": {}
        }
      ],
      "source": [
        "plt.figure(figsize=(10,10))\n",
        "plt.plot(recall_vals, precision_vals, color='purple', lw=2, label=f'PR curve (AP = {avg_precision:.3f})')\n",
        "plt.xlabel(\"Recall (Sensitivity)\")\n",
        "plt.ylabel(\"Precision (Positive Predictive Value)\")\n",
        "plt.title(\"Precision–Recall Curve\")\n",
        "plt.legend(loc=\"lower left\")\n",
        "plt.grid(True, linestyle='--', alpha=0.6)\n",
        "plt.show()"
      ]
    },
    {
      "cell_type": "markdown",
      "id": "251259b0",
      "metadata": {
        "id": "251259b0"
      },
      "source": [
        "*************************************************************************************************************************************************************************************************************************************"
      ]
    }
  ],
  "metadata": {
    "accelerator": "GPU",
    "colab": {
      "collapsed_sections": [
        "368d6e10",
        "FH9LLuA-JguJ",
        "914d30b0",
        "b6553e60",
        "1b2d836f",
        "d0233acb",
        "d7b785af"
      ],
      "gpuType": "T4",
      "provenance": []
    },
    "kernelspec": {
      "display_name": "Python 3",
      "name": "python3"
    },
    "language_info": {
      "codemirror_mode": {
        "name": "ipython",
        "version": 3
      },
      "file_extension": ".py",
      "mimetype": "text/x-python",
      "name": "python",
      "nbconvert_exporter": "python",
      "pygments_lexer": "ipython3",
      "version": "3.12.10"
    }
  },
  "nbformat": 4,
  "nbformat_minor": 5
}